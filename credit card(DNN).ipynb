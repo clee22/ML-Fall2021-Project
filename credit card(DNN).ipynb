{
 "cells": [
  {
   "cell_type": "markdown",
   "id": "bd2af785",
   "metadata": {},
   "source": [
    "This is the CLASSIFICATION jupyter notebook"
   ]
  },
  {
   "cell_type": "code",
   "execution_count": 1,
   "id": "5cf465aa",
   "metadata": {},
   "outputs": [],
   "source": [
    "# general libraries\n",
    "import numpy as np\n",
    "import pandas as pd\n",
    "import matplotlib.pyplot as plt\n",
    "import keras"
   ]
  },
  {
   "cell_type": "code",
   "execution_count": 2,
   "id": "7f38ce72",
   "metadata": {},
   "outputs": [],
   "source": [
    "# models\n",
    "from sklearn.svm import SVC\n",
    "from sklearn.ensemble import RandomForestClassifier as RT\n",
    "from keras.models import Sequential\n",
    "from keras.layers import Dense"
   ]
  },
  {
   "cell_type": "code",
   "execution_count": 3,
   "id": "925b9b96",
   "metadata": {},
   "outputs": [],
   "source": [
    "# preprocessing and set up\n",
    "import seaborn as sns\n",
    "from sklearn.preprocessing import StandardScaler\n",
    "from sklearn.preprocessing import LabelEncoder, OneHotEncoder\n",
    "from sklearn.model_selection import train_test_split as tts\n",
    "from imblearn.over_sampling import RandomOverSampler as ROS\n",
    "from imblearn.under_sampling import RandomUnderSampler as RUS\n",
    "from sklearn.model_selection import GridSearchCV"
   ]
  },
  {
   "cell_type": "code",
   "execution_count": 4,
   "id": "a2b6b279",
   "metadata": {},
   "outputs": [],
   "source": [
    "# scoring\n",
    "from sklearn.metrics import roc_auc_score as ARS, precision_score as PS, accuracy_score as AS\n",
    "from sklearn.metrics import recall_score as RS, f1_score as FS, confusion_matrix as CM\n",
    "from sklearn.metrics import roc_curve as RC, roc_auc_score as RAS"
   ]
  },
  {
   "cell_type": "code",
   "execution_count": 5,
   "id": "bd5e5eb5",
   "metadata": {},
   "outputs": [
    {
     "name": "stdout",
     "output_type": "stream",
     "text": [
      "<class 'pandas.core.frame.DataFrame'>\n",
      "RangeIndex: 284807 entries, 0 to 284806\n",
      "Data columns (total 31 columns):\n",
      " #   Column  Non-Null Count   Dtype  \n",
      "---  ------  --------------   -----  \n",
      " 0   Time    284807 non-null  float64\n",
      " 1   V1      284807 non-null  float64\n",
      " 2   V2      284807 non-null  float64\n",
      " 3   V3      284807 non-null  float64\n",
      " 4   V4      284807 non-null  float64\n",
      " 5   V5      284807 non-null  float64\n",
      " 6   V6      284807 non-null  float64\n",
      " 7   V7      284807 non-null  float64\n",
      " 8   V8      284807 non-null  float64\n",
      " 9   V9      284807 non-null  float64\n",
      " 10  V10     284807 non-null  float64\n",
      " 11  V11     284807 non-null  float64\n",
      " 12  V12     284807 non-null  float64\n",
      " 13  V13     284807 non-null  float64\n",
      " 14  V14     284807 non-null  float64\n",
      " 15  V15     284807 non-null  float64\n",
      " 16  V16     284807 non-null  float64\n",
      " 17  V17     284807 non-null  float64\n",
      " 18  V18     284807 non-null  float64\n",
      " 19  V19     284807 non-null  float64\n",
      " 20  V20     284807 non-null  float64\n",
      " 21  V21     284807 non-null  float64\n",
      " 22  V22     284807 non-null  float64\n",
      " 23  V23     284807 non-null  float64\n",
      " 24  V24     284807 non-null  float64\n",
      " 25  V25     284807 non-null  float64\n",
      " 26  V26     284807 non-null  float64\n",
      " 27  V27     284807 non-null  float64\n",
      " 28  V28     284807 non-null  float64\n",
      " 29  Amount  284807 non-null  float64\n",
      " 30  Class   284807 non-null  int64  \n",
      "dtypes: float64(30), int64(1)\n",
      "memory usage: 67.4 MB\n",
      "0    284315\n",
      "1       492\n",
      "Name: Class, dtype: int64\n",
      "(284807, 31)\n"
     ]
    }
   ],
   "source": [
    "ccfdf = pd.read_csv('creditcard.csv')\n",
    "ccfdf.dropna()\n",
    "ccfdf.info()\n",
    "ccfdf.describe()\n",
    "print(ccfdf[\"Class\"].value_counts())\n",
    "print(ccfdf.shape)"
   ]
  },
  {
   "cell_type": "code",
   "execution_count": 6,
   "id": "02fa771c",
   "metadata": {
    "scrolled": true
   },
   "outputs": [
    {
     "name": "stdout",
     "output_type": "stream",
     "text": [
      "0    284315\n",
      "1       492\n",
      "Name: Class, dtype: int64\n"
     ]
    }
   ],
   "source": [
    "y = ccfdf[\"Class\"]\n",
    "X = ccfdf.drop(\"Class\",axis = 1)\n",
    "print(y.value_counts())"
   ]
  },
  {
   "cell_type": "code",
   "execution_count": 7,
   "id": "843c33ba",
   "metadata": {},
   "outputs": [
    {
     "name": "stdout",
     "output_type": "stream",
     "text": [
      "<class 'pandas.core.frame.DataFrame'>\n",
      "RangeIndex: 284807 entries, 0 to 284806\n",
      "Data columns (total 30 columns):\n",
      " #   Column  Non-Null Count   Dtype  \n",
      "---  ------  --------------   -----  \n",
      " 0   Time    284807 non-null  float64\n",
      " 1   V1      284807 non-null  float64\n",
      " 2   V2      284807 non-null  float64\n",
      " 3   V3      284807 non-null  float64\n",
      " 4   V4      284807 non-null  float64\n",
      " 5   V5      284807 non-null  float64\n",
      " 6   V6      284807 non-null  float64\n",
      " 7   V7      284807 non-null  float64\n",
      " 8   V8      284807 non-null  float64\n",
      " 9   V9      284807 non-null  float64\n",
      " 10  V10     284807 non-null  float64\n",
      " 11  V11     284807 non-null  float64\n",
      " 12  V12     284807 non-null  float64\n",
      " 13  V13     284807 non-null  float64\n",
      " 14  V14     284807 non-null  float64\n",
      " 15  V15     284807 non-null  float64\n",
      " 16  V16     284807 non-null  float64\n",
      " 17  V17     284807 non-null  float64\n",
      " 18  V18     284807 non-null  float64\n",
      " 19  V19     284807 non-null  float64\n",
      " 20  V20     284807 non-null  float64\n",
      " 21  V21     284807 non-null  float64\n",
      " 22  V22     284807 non-null  float64\n",
      " 23  V23     284807 non-null  float64\n",
      " 24  V24     284807 non-null  float64\n",
      " 25  V25     284807 non-null  float64\n",
      " 26  V26     284807 non-null  float64\n",
      " 27  V27     284807 non-null  float64\n",
      " 28  V28     284807 non-null  float64\n",
      " 29  Amount  284807 non-null  float64\n",
      "dtypes: float64(30)\n",
      "memory usage: 65.2 MB\n"
     ]
    }
   ],
   "source": [
    "X.info()"
   ]
  },
  {
   "cell_type": "code",
   "execution_count": 8,
   "id": "00bb1e54",
   "metadata": {},
   "outputs": [
    {
     "data": {
      "image/png": "[encoded data removed]",
      "text/plain": [
       "<Figure size 432x288 with 1 Axes>"
      ]
     },
     "metadata": {
      "needs_background": "light"
     },
     "output_type": "display_data"
    },
    {
     "data": {
      "image/png": "[encoded data removed]",
      "text/plain": [
       "<Figure size 432x288 with 1 Axes>"
      ]
     },
     "metadata": {
      "needs_background": "light"
     },
     "output_type": "display_data"
    },
    {
     "data": {
      "image/png": "[encoded data removed]",
      "text/plain": [
       "<Figure size 432x288 with 1 Axes>"
      ]
     },
     "metadata": {
      "needs_background": "light"
     },
     "output_type": "display_data"
    },
    {
     "data": {
      "image/png": "[encoded data removed]",
      "text/plain": [
       "<Figure size 432x288 with 1 Axes>"
      ]
     },
     "metadata": {
      "needs_background": "light"
     },
     "output_type": "display_data"
    },
    {
     "data": {
      "image/png": "[encoded data removed]",
      "text/plain": [
       "<Figure size 432x288 with 1 Axes>"
      ]
     },
     "metadata": {
      "needs_background": "light"
     },
     "output_type": "display_data"
    },
    {
     "data": {
      "image/png": "[encoded data removed]",
      "text/plain": [
       "<Figure size 432x288 with 1 Axes>"
      ]
     },
     "metadata": {
      "needs_background": "light"
     },
     "output_type": "display_data"
    },
    {
     "data": {
      "image/png": "[encoded data removed]",
      "text/plain": [
       "<Figure size 432x288 with 1 Axes>"
      ]
     },
     "metadata": {
      "needs_background": "light"
     },
     "output_type": "display_data"
    },
    {
     "data": {
      "image/png": "[encoded data removed]",
      "text/plain": [
       "<Figure size 432x288 with 1 Axes>"
      ]
     },
     "metadata": {
      "needs_background": "light"
     },
     "output_type": "display_data"
    },
    {
     "data": {
      "image/png": "[encoded data removed]",
      "text/plain": [
       "<Figure size 432x288 with 1 Axes>"
      ]
     },
     "metadata": {
      "needs_background": "light"
     },
     "output_type": "display_data"
    },
    {
     "data": {
      "image/png": "[encoded data removed]",
      "text/plain": [
       "<Figure size 432x288 with 1 Axes>"
      ]
     },
     "metadata": {
      "needs_background": "light"
     },
     "output_type": "display_data"
    },
    {
     "data": {
      "image/png": "[encoded data removed]",
      "text/plain": [
       "<Figure size 432x288 with 1 Axes>"
      ]
     },
     "metadata": {
      "needs_background": "light"
     },
     "output_type": "display_data"
    },
    {
     "data": {
      "image/png": "[encoded data removed]",
      "text/plain": [
       "<Figure size 432x288 with 1 Axes>"
      ]
     },
     "metadata": {
      "needs_background": "light"
     },
     "output_type": "display_data"
    },
    {
     "data": {
      "image/png": "[encoded data removed]",
      "text/plain": [
       "<Figure size 432x288 with 1 Axes>"
      ]
     },
     "metadata": {
      "needs_background": "light"
     },
     "output_type": "display_data"
    },
    {
     "data": {
      "image/png": "[encoded data removed]",
      "text/plain": [
       "<Figure size 432x288 with 1 Axes>"
      ]
     },
     "metadata": {
      "needs_background": "light"
     },
     "output_type": "display_data"
    },
    {
     "data": {
      "image/png": "[encoded data removed]",
      "text/plain": [
       "<Figure size 432x288 with 1 Axes>"
      ]
     },
     "metadata": {
      "needs_background": "light"
     },
     "output_type": "display_data"
    },
    {
     "data": {
      "image/png": "[encoded data removed]",
      "text/plain": [
       "<Figure size 432x288 with 1 Axes>"
      ]
     },
     "metadata": {
      "needs_background": "light"
     },
     "output_type": "display_data"
    },
    {
     "data": {
      "image/png": "[encoded data removed]",
      "text/plain": [
       "<Figure size 432x288 with 1 Axes>"
      ]
     },
     "metadata": {
      "needs_background": "light"
     },
     "output_type": "display_data"
    },
    {
     "data": {
      "image/png": "[encoded data removed]",
      "text/plain": [
       "<Figure size 432x288 with 1 Axes>"
      ]
     },
     "metadata": {
      "needs_background": "light"
     },
     "output_type": "display_data"
    },
    {
     "data": {
      "image/png": "[encoded data removed]",
      "text/plain": [
       "<Figure size 432x288 with 1 Axes>"
      ]
     },
     "metadata": {
      "needs_background": "light"
     },
     "output_type": "display_data"
    },
    {
     "data": {
      "image/png": "[encoded data removed]",
      "text/plain": [
       "<Figure size 432x288 with 1 Axes>"
      ]
     },
     "metadata": {
      "needs_background": "light"
     },
     "output_type": "display_data"
    },
    {
     "data": {
      "image/png": "[encoded data removed]",
      "text/plain": [
       "<Figure size 432x288 with 1 Axes>"
      ]
     },
     "metadata": {
      "needs_background": "light"
     },
     "output_type": "display_data"
    },
    {
     "data": {
      "image/png": "[encoded data removed]",
      "text/plain": [
       "<Figure size 432x288 with 1 Axes>"
      ]
     },
     "metadata": {
      "needs_background": "light"
     },
     "output_type": "display_data"
    },
    {
     "data": {
      "image/png": "[encoded data removed]",
      "text/plain": [
       "<Figure size 432x288 with 1 Axes>"
      ]
     },
     "metadata": {
      "needs_background": "light"
     },
     "output_type": "display_data"
    },
    {
     "data": {
      "image/png": "[encoded data removed]",
      "text/plain": [
       "<Figure size 432x288 with 1 Axes>"
      ]
     },
     "metadata": {
      "needs_background": "light"
     },
     "output_type": "display_data"
    },
    {
     "data": {
      "image/png": "[encoded data removed]",
      "text/plain": [
       "<Figure size 432x288 with 1 Axes>"
      ]
     },
     "metadata": {
      "needs_background": "light"
     },
     "output_type": "display_data"
    },
    {
     "data": {
      "image/png": "[encoded data removed]",
      "text/plain": [
       "<Figure size 432x288 with 1 Axes>"
      ]
     },
     "metadata": {
      "needs_background": "light"
     },
     "output_type": "display_data"
    },
    {
     "data": {
      "image/png": "[encoded data removed]",
      "text/plain": [
       "<Figure size 432x288 with 1 Axes>"
      ]
     },
     "metadata": {
      "needs_background": "light"
     },
     "output_type": "display_data"
    },
    {
     "data": {
      "image/png": "[encoded data removed]",
      "text/plain": [
       "<Figure size 432x288 with 1 Axes>"
      ]
     },
     "metadata": {
      "needs_background": "light"
     },
     "output_type": "display_data"
    },
    {
     "data": {
      "image/png": "[encoded data removed]",
      "text/plain": [
       "<Figure size 432x288 with 1 Axes>"
      ]
     },
     "metadata": {
      "needs_background": "light"
     },
     "output_type": "display_data"
    },
    {
     "data": {
      "image/png": "[encoded data removed]",
      "text/plain": [
       "<Figure size 432x288 with 1 Axes>"
      ]
     },
     "metadata": {
      "needs_background": "light"
     },
     "output_type": "display_data"
    }
   ],
   "source": [
    "for i in range (0,30):\n",
    "    plt.title(\"%d\" % i)\n",
    "    plt.scatter(X.iloc[:,[i]],y)\n",
    "    plt.ylim(-.5,1.5)\n",
    "    plt.show()"
   ]
  },
  {
   "cell_type": "markdown",
   "id": "795c300e",
   "metadata": {},
   "source": [
    "> Looking at these graphs graph \"0\" is not really indicative of Fraud, because the min and max of legitimate and fraudulent credit card usage is almost the same and the gaps of time where there are no fraudulent credit card use are so minimal it would do nothing to actually help train the modle. Also logically how would time affect someone trying to steal money?"
   ]
  },
  {
   "cell_type": "code",
   "execution_count": 9,
   "id": "a937d596",
   "metadata": {},
   "outputs": [
    {
     "name": "stdout",
     "output_type": "stream",
     "text": [
      "<class 'pandas.core.frame.DataFrame'>\n",
      "RangeIndex: 284807 entries, 0 to 284806\n",
      "Data columns (total 29 columns):\n",
      " #   Column  Non-Null Count   Dtype  \n",
      "---  ------  --------------   -----  \n",
      " 0   V1      284807 non-null  float64\n",
      " 1   V2      284807 non-null  float64\n",
      " 2   V3      284807 non-null  float64\n",
      " 3   V4      284807 non-null  float64\n",
      " 4   V5      284807 non-null  float64\n",
      " 5   V6      284807 non-null  float64\n",
      " 6   V7      284807 non-null  float64\n",
      " 7   V8      284807 non-null  float64\n",
      " 8   V9      284807 non-null  float64\n",
      " 9   V10     284807 non-null  float64\n",
      " 10  V11     284807 non-null  float64\n",
      " 11  V12     284807 non-null  float64\n",
      " 12  V13     284807 non-null  float64\n",
      " 13  V14     284807 non-null  float64\n",
      " 14  V15     284807 non-null  float64\n",
      " 15  V16     284807 non-null  float64\n",
      " 16  V17     284807 non-null  float64\n",
      " 17  V18     284807 non-null  float64\n",
      " 18  V19     284807 non-null  float64\n",
      " 19  V20     284807 non-null  float64\n",
      " 20  V21     284807 non-null  float64\n",
      " 21  V22     284807 non-null  float64\n",
      " 22  V23     284807 non-null  float64\n",
      " 23  V24     284807 non-null  float64\n",
      " 24  V25     284807 non-null  float64\n",
      " 25  V26     284807 non-null  float64\n",
      " 26  V27     284807 non-null  float64\n",
      " 27  V28     284807 non-null  float64\n",
      " 28  Amount  284807 non-null  float64\n",
      "dtypes: float64(29)\n",
      "memory usage: 63.0 MB\n"
     ]
    }
   ],
   "source": [
    "X = X.drop(\"Time\",axis = 1)\n",
    "X.info()\n",
    "X = X.values"
   ]
  },
  {
   "cell_type": "code",
   "execution_count": 10,
   "id": "9f2f605d",
   "metadata": {},
   "outputs": [
    {
     "name": "stdout",
     "output_type": "stream",
     "text": [
      "(284807, 29)\n"
     ]
    }
   ],
   "source": [
    "print(X.shape)"
   ]
  },
  {
   "cell_type": "markdown",
   "id": "9cb8aa3d",
   "metadata": {},
   "source": [
    "> I am not really sure which is really better: oversampling or undersampling. From seemingly common sense it should be oversampling because one keeps all the original data, but i am not an expert. So, let us find out by using both."
   ]
  },
  {
   "cell_type": "code",
   "execution_count": 11,
   "id": "8cac43c1",
   "metadata": {},
   "outputs": [],
   "source": [
    "# time to train because i want to go on a side of caution instead of 8:2 ration im going with a 7:3\n",
    "x_tr_f, x_te, y_tr_f, y_te = tts(X,y, test_size = 0.3)\n",
    "#over and under samplers\n",
    "ros = ROS(random_state = 42) # why 42? why not 42 is the better question\n",
    "rus = RUS(random_state = 42)\n",
    "# resampling the training sets\n",
    "xtr_os_f, ytr_os_f = ros.fit_resample(x_tr_f,y_tr_f) # (x) or (y) (TR)ain (u)ndersampled (S)ampled (F)ull\n",
    "xtr_us_f, ytr_us_f = rus.fit_resample(x_tr_f,y_tr_f) # (x) or (y) (TR)ain (U)ndersampled (S)ampled (F)ull\n",
    "# now for splitting for neural network i will revert to 8:2 for validation split\n",
    "xtr_os, xtr_os_v, ytr_os, ytr_os_v = tts(xtr_os_f, ytr_os_f, test_size=0.2)\n",
    "xtr_us, xtr_us_v, ytr_us, ytr_us_v = tts(xtr_us_f, ytr_us_f, test_size=0.2)"
   ]
  },
  {
   "cell_type": "code",
   "execution_count": 12,
   "id": "d53b589a",
   "metadata": {},
   "outputs": [],
   "source": [
    "# Scaling for SVC and DNN, since decision tree aren't sensitive to feature scaling\n",
    "#oversampling\n",
    "scaler_os = StandardScaler()\n",
    "sc_xtr_os_f = scaler_os.fit_transform(xtr_os_f)\n",
    "sc_xtr_os = scaler_os.transform(xtr_os)\n",
    "sc_xte_os = scaler_os.transform(x_te)\n",
    "sc_xte_os_v = scaler_os.transform(xtr_os_v)\n",
    "#undersampling\n",
    "scaler_us = StandardScaler()\n",
    "sc_xtr_us_f = scaler_us.fit_transform(xtr_us_f)\n",
    "sc_xtr_us = scaler_us.transform(xtr_us)\n",
    "sc_xte_us = scaler_us.transform(x_te)\n",
    "sc_xte_us_v = scaler_us.transform(xtr_us_v)"
   ]
  },
  {
   "cell_type": "markdown",
   "id": "9dcbfcc3",
   "metadata": {},
   "source": [
    "> I have decided to break my classifification into 3 notebooks so i can run them while my Random forest gridsearch is running"
   ]
  },
  {
   "cell_type": "code",
   "execution_count": 13,
   "id": "f0f5d41c",
   "metadata": {},
   "outputs": [
    {
     "name": "stdout",
     "output_type": "stream",
     "text": [
      "(318436, 29) (85443, 29) (79610, 29)\n",
      "(545, 29) (85443, 29) (137, 29)\n"
     ]
    }
   ],
   "source": [
    "print(sc_xtr_os.shape, sc_xte_os.shape, sc_xte_os_v.shape)\n",
    "print(sc_xtr_us.shape, sc_xte_us.shape ,sc_xte_us_v.shape)"
   ]
  },
  {
   "cell_type": "markdown",
   "id": "67f7023d",
   "metadata": {},
   "source": [
    "# DNN"
   ]
  },
  {
   "cell_type": "markdown",
   "id": "2056f757",
   "metadata": {},
   "source": [
    "> I am going to try a triple hiddne layer model layer \n"
   ]
  },
  {
   "cell_type": "code",
   "execution_count": 14,
   "id": "c22229f9",
   "metadata": {},
   "outputs": [],
   "source": [
    "# DNN for the over sampled set\n",
    "os_DNN = Sequential()\n",
    "os_DNN.add(Dense(units = 15, kernel_initializer = 'uniform', activation = 'relu', input_dim = 29))\n",
    "os_DNN.add(Dense(units = 15, activation = 'relu'))\n",
    "os_DNN.add(Dense(units = 15, activation = 'relu'))\n",
    "os_DNN.add(Dense(units = 15, activation = 'relu'))\n",
    "os_DNN.add(Dense(1, activation='sigmoid'))"
   ]
  },
  {
   "cell_type": "code",
   "execution_count": 15,
   "id": "f795c5b9",
   "metadata": {},
   "outputs": [],
   "source": [
    "# DNN for under sampled set\n",
    "us_DNN = Sequential()\n",
    "us_DNN.add(Dense(units = 29, kernel_initializer = 'uniform', activation = 'relu', input_dim = 29))\n",
    "us_DNN.add(Dense(units = 29, activation = 'softmax'))\n",
    "us_DNN.add(Dense(units = 29, kernel_initializer = 'uniform', activation = 'softmax'))\n",
    "us_DNN.add(Dense(units = 29, activation = 'softmax'))\n",
    "us_DNN.add(Dense(units = 29, kernel_initializer = 'uniform', activation = 'softmax'))\n",
    "us_DNN.add(Dense(1, activation='sigmoid'))"
   ]
  },
  {
   "cell_type": "code",
   "execution_count": 16,
   "id": "cd77f7b4",
   "metadata": {
    "scrolled": true
   },
   "outputs": [],
   "source": [
    "os_DNN.compile(optimizer = 'adam', loss = 'binary_crossentropy', metrics = ['accuracy'])\n",
    "us_DNN.compile(optimizer = 'adam', loss = 'binary_crossentropy', metrics = ['accuracy'])"
   ]
  },
  {
   "cell_type": "markdown",
   "id": "9d191ae4",
   "metadata": {},
   "source": [
    "> so i did the math if i where to cut it down to a good size in the hundreds i can make the batch size 600 which in order to equal the same amount of samples being trained meaning batches would be 284807/600 which comes to 530.69 meaning about 531 samples"
   ]
  },
  {
   "cell_type": "code",
   "execution_count": 17,
   "id": "59f4e8df",
   "metadata": {},
   "outputs": [
    {
     "name": "stdout",
     "output_type": "stream",
     "text": [
      "Epoch 1/530\n",
      "531/531 [==============================] - 1s 2ms/step - loss: 0.1607 - accuracy: 0.9495 - val_loss: 0.0634 - val_accuracy: 0.9784\n",
      "Epoch 2/530\n",
      "531/531 [==============================] - 1s 1ms/step - loss: 0.0451 - accuracy: 0.9865 - val_loss: 0.0328 - val_accuracy: 0.9917\n",
      "Epoch 3/530\n",
      "531/531 [==============================] - 1s 1ms/step - loss: 0.0259 - accuracy: 0.9939 - val_loss: 0.0207 - val_accuracy: 0.9952\n",
      "Epoch 4/530\n",
      "531/531 [==============================] - 1s 1ms/step - loss: 0.0177 - accuracy: 0.9960 - val_loss: 0.0156 - val_accuracy: 0.9962\n",
      "Epoch 5/530\n",
      "531/531 [==============================] - 1s 1ms/step - loss: 0.0133 - accuracy: 0.9970 - val_loss: 0.0129 - val_accuracy: 0.9972\n",
      "Epoch 6/530\n",
      "531/531 [==============================] - 1s 1ms/step - loss: 0.0107 - accuracy: 0.9977 - val_loss: 0.0096 - val_accuracy: 0.9981\n",
      "Epoch 7/530\n",
      "531/531 [==============================] - 1s 2ms/step - loss: 0.0093 - accuracy: 0.9980 - val_loss: 0.0099 - val_accuracy: 0.9978\n",
      "Epoch 8/530\n",
      "531/531 [==============================] - 1s 1ms/step - loss: 0.0087 - accuracy: 0.9981 - val_loss: 0.0085 - val_accuracy: 0.9983\n",
      "Epoch 9/530\n",
      "531/531 [==============================] - 1s 1ms/step - loss: 0.0076 - accuracy: 0.9983 - val_loss: 0.0074 - val_accuracy: 0.9984\n",
      "Epoch 10/530\n",
      "531/531 [==============================] - 1s 2ms/step - loss: 0.0070 - accuracy: 0.9986 - val_loss: 0.0077 - val_accuracy: 0.9982\n",
      "Epoch 11/530\n",
      "531/531 [==============================] - 1s 1ms/step - loss: 0.0062 - accuracy: 0.9987 - val_loss: 0.0113 - val_accuracy: 0.9971\n",
      "Epoch 12/530\n",
      "531/531 [==============================] - 1s 1ms/step - loss: 0.0067 - accuracy: 0.9986 - val_loss: 0.0065 - val_accuracy: 0.9986\n",
      "Epoch 13/530\n",
      "531/531 [==============================] - 1s 2ms/step - loss: 0.0062 - accuracy: 0.9987 - val_loss: 0.0065 - val_accuracy: 0.9988\n",
      "Epoch 14/530\n",
      "531/531 [==============================] - 1s 2ms/step - loss: 0.0055 - accuracy: 0.9989 - val_loss: 0.0062 - val_accuracy: 0.9989\n",
      "Epoch 15/530\n",
      "531/531 [==============================] - 1s 1ms/step - loss: 0.0053 - accuracy: 0.9989 - val_loss: 0.0054 - val_accuracy: 0.9989\n",
      "Epoch 16/530\n",
      "531/531 [==============================] - 1s 1ms/step - loss: 0.0061 - accuracy: 0.9986 - val_loss: 0.0069 - val_accuracy: 0.9984\n",
      "Epoch 17/530\n",
      "531/531 [==============================] - 1s 1ms/step - loss: 0.0050 - accuracy: 0.9990 - val_loss: 0.0052 - val_accuracy: 0.9990\n",
      "Epoch 18/530\n",
      "531/531 [==============================] - 1s 1ms/step - loss: 0.0044 - accuracy: 0.9991 - val_loss: 0.0064 - val_accuracy: 0.9993\n",
      "Epoch 19/530\n",
      "531/531 [==============================] - 1s 2ms/step - loss: 0.0045 - accuracy: 0.9991 - val_loss: 0.0051 - val_accuracy: 0.9989\n",
      "Epoch 20/530\n",
      "531/531 [==============================] - 1s 1ms/step - loss: 0.0053 - accuracy: 0.9988 - val_loss: 0.0057 - val_accuracy: 0.9989\n",
      "Epoch 21/530\n",
      "531/531 [==============================] - 1s 1ms/step - loss: 0.0044 - accuracy: 0.9991 - val_loss: 0.0045 - val_accuracy: 0.9992\n",
      "Epoch 22/530\n",
      "531/531 [==============================] - 1s 1ms/step - loss: 0.0037 - accuracy: 0.9993 - val_loss: 0.0046 - val_accuracy: 0.9991\n",
      "Epoch 23/530\n",
      "531/531 [==============================] - 1s 2ms/step - loss: 0.0041 - accuracy: 0.9991 - val_loss: 0.0065 - val_accuracy: 0.9985\n",
      "Epoch 24/530\n",
      "531/531 [==============================] - 1s 1ms/step - loss: 0.0041 - accuracy: 0.9992 - val_loss: 0.0057 - val_accuracy: 0.9988\n",
      "Epoch 25/530\n",
      "531/531 [==============================] - 1s 2ms/step - loss: 0.0049 - accuracy: 0.9990 - val_loss: 0.0047 - val_accuracy: 0.9991\n",
      "Epoch 26/530\n",
      "531/531 [==============================] - 1s 1ms/step - loss: 0.0036 - accuracy: 0.9993 - val_loss: 0.0035 - val_accuracy: 0.9994\n",
      "Epoch 27/530\n",
      "531/531 [==============================] - 1s 1ms/step - loss: 0.0043 - accuracy: 0.9990 - val_loss: 0.0042 - val_accuracy: 0.9991\n",
      "Epoch 28/530\n",
      "531/531 [==============================] - 1s 1ms/step - loss: 0.0036 - accuracy: 0.9993 - val_loss: 0.0048 - val_accuracy: 0.9990\n",
      "Epoch 29/530\n",
      "531/531 [==============================] - 1s 1ms/step - loss: 0.0031 - accuracy: 0.9993 - val_loss: 0.0072 - val_accuracy: 0.9974\n",
      "Epoch 30/530\n",
      "531/531 [==============================] - 1s 1ms/step - loss: 0.0040 - accuracy: 0.9992 - val_loss: 0.0039 - val_accuracy: 0.9994\n",
      "Epoch 31/530\n",
      "531/531 [==============================] - 1s 1ms/step - loss: 0.0039 - accuracy: 0.9992 - val_loss: 0.0049 - val_accuracy: 0.9992\n",
      "Epoch 32/530\n",
      "531/531 [==============================] - 1s 1ms/step - loss: 0.0035 - accuracy: 0.9993 - val_loss: 0.0028 - val_accuracy: 0.9996\n",
      "Epoch 33/530\n",
      "531/531 [==============================] - 1s 1ms/step - loss: 0.0028 - accuracy: 0.9995 - val_loss: 0.0036 - val_accuracy: 0.9993\n",
      "Epoch 34/530\n",
      "531/531 [==============================] - 1s 1ms/step - loss: 0.0034 - accuracy: 0.9993 - val_loss: 0.0045 - val_accuracy: 0.9992\n",
      "Epoch 35/530\n",
      "531/531 [==============================] - 1s 1ms/step - loss: 0.0030 - accuracy: 0.9995 - val_loss: 0.0031 - val_accuracy: 0.9995\n",
      "Epoch 36/530\n",
      "531/531 [==============================] - 1s 2ms/step - loss: 0.0032 - accuracy: 0.9993 - val_loss: 0.0038 - val_accuracy: 0.9993\n",
      "Epoch 37/530\n",
      "531/531 [==============================] - 1s 1ms/step - loss: 0.0028 - accuracy: 0.9995 - val_loss: 0.0042 - val_accuracy: 0.9993\n",
      "Epoch 38/530\n",
      "531/531 [==============================] - 1s 1ms/step - loss: 0.0034 - accuracy: 0.9993 - val_loss: 0.0041 - val_accuracy: 0.9993\n",
      "Epoch 39/530\n",
      "531/531 [==============================] - 1s 1ms/step - loss: 0.0031 - accuracy: 0.9993 - val_loss: 0.0050 - val_accuracy: 0.9990\n",
      "Epoch 40/530\n",
      "531/531 [==============================] - 1s 1ms/step - loss: 0.0026 - accuracy: 0.9995 - val_loss: 0.0179 - val_accuracy: 0.9954\n",
      "Epoch 41/530\n",
      "531/531 [==============================] - 1s 2ms/step - loss: 0.0029 - accuracy: 0.9994 - val_loss: 0.0212 - val_accuracy: 0.9945\n",
      "Epoch 42/530\n",
      "531/531 [==============================] - 1s 1ms/step - loss: 0.0034 - accuracy: 0.9993 - val_loss: 0.0038 - val_accuracy: 0.9994\n",
      "Epoch 43/530\n",
      "531/531 [==============================] - 1s 2ms/step - loss: 0.0022 - accuracy: 0.9996 - val_loss: 0.0031 - val_accuracy: 0.9996\n",
      "Epoch 44/530\n",
      "531/531 [==============================] - 1s 1ms/step - loss: 0.0037 - accuracy: 0.9992 - val_loss: 0.0035 - val_accuracy: 0.9994\n",
      "Epoch 45/530\n",
      "531/531 [==============================] - 1s 1ms/step - loss: 0.0029 - accuracy: 0.9994 - val_loss: 0.0040 - val_accuracy: 0.9994\n",
      "Epoch 46/530\n",
      "531/531 [==============================] - 1s 1ms/step - loss: 0.0022 - accuracy: 0.9996 - val_loss: 0.0043 - val_accuracy: 0.9992\n",
      "Epoch 47/530\n",
      "531/531 [==============================] - 1s 1ms/step - loss: 0.0022 - accuracy: 0.9996 - val_loss: 0.0040 - val_accuracy: 0.9995\n",
      "Epoch 48/530\n",
      "531/531 [==============================] - 1s 1ms/step - loss: 0.0025 - accuracy: 0.9995 - val_loss: 0.0037 - val_accuracy: 0.9993\n",
      "Epoch 49/530\n",
      "531/531 [==============================] - 1s 1ms/step - loss: 0.0031 - accuracy: 0.9994 - val_loss: 0.0036 - val_accuracy: 0.9994\n",
      "Epoch 50/530\n",
      "531/531 [==============================] - 1s 1ms/step - loss: 0.0018 - accuracy: 0.9997 - val_loss: 0.0036 - val_accuracy: 0.9994\n",
      "Epoch 51/530\n",
      "531/531 [==============================] - 1s 1ms/step - loss: 0.0025 - accuracy: 0.9995 - val_loss: 0.0030 - val_accuracy: 0.9995\n",
      "Epoch 52/530\n",
      "531/531 [==============================] - 1s 1ms/step - loss: 0.0023 - accuracy: 0.9995 - val_loss: 0.0036 - val_accuracy: 0.9994\n",
      "Epoch 53/530\n",
      "531/531 [==============================] - 1s 1ms/step - loss: 0.0020 - accuracy: 0.9996 - val_loss: 0.0039 - val_accuracy: 0.9994\n",
      "Epoch 54/530\n",
      "531/531 [==============================] - 1s 1ms/step - loss: 0.0027 - accuracy: 0.9994 - val_loss: 0.0032 - val_accuracy: 0.9995\n",
      "Epoch 55/530\n",
      "531/531 [==============================] - 1s 1ms/step - loss: 0.0021 - accuracy: 0.9996 - val_loss: 0.0034 - val_accuracy: 0.9994\n",
      "Epoch 56/530\n",
      "531/531 [==============================] - 1s 2ms/step - loss: 0.0034 - accuracy: 0.9993 - val_loss: 0.0033 - val_accuracy: 0.9995\n",
      "Epoch 57/530\n",
      "531/531 [==============================] - 1s 1ms/step - loss: 0.0017 - accuracy: 0.9997 - val_loss: 0.0032 - val_accuracy: 0.9995\n"
     ]
    },
    {
     "name": "stdout",
     "output_type": "stream",
     "text": [
      "Epoch 58/530\n",
      "531/531 [==============================] - 1s 1ms/step - loss: 0.0021 - accuracy: 0.9996 - val_loss: 0.0029 - val_accuracy: 0.9996\n",
      "Epoch 59/530\n",
      "531/531 [==============================] - 1s 1ms/step - loss: 0.0025 - accuracy: 0.9995 - val_loss: 0.0044 - val_accuracy: 0.9992\n",
      "Epoch 60/530\n",
      "531/531 [==============================] - 1s 1ms/step - loss: 0.0027 - accuracy: 0.9995 - val_loss: 0.0088 - val_accuracy: 0.9983\n",
      "Epoch 61/530\n",
      "531/531 [==============================] - 1s 1ms/step - loss: 0.0021 - accuracy: 0.9996 - val_loss: 0.0028 - val_accuracy: 0.9995\n",
      "Epoch 62/530\n",
      "531/531 [==============================] - 1s 1ms/step - loss: 0.0023 - accuracy: 0.9995 - val_loss: 0.0023 - val_accuracy: 0.9997\n",
      "Epoch 63/530\n",
      "531/531 [==============================] - 1s 1ms/step - loss: 0.0029 - accuracy: 0.9994 - val_loss: 0.0036 - val_accuracy: 0.9995\n",
      "Epoch 64/530\n",
      "531/531 [==============================] - 1s 1ms/step - loss: 0.0026 - accuracy: 0.9995 - val_loss: 0.0027 - val_accuracy: 0.9996\n",
      "Epoch 65/530\n",
      "531/531 [==============================] - 1s 1ms/step - loss: 0.0016 - accuracy: 0.9997 - val_loss: 0.0028 - val_accuracy: 0.9996\n",
      "Epoch 66/530\n",
      "531/531 [==============================] - 1s 1ms/step - loss: 0.0024 - accuracy: 0.9995 - val_loss: 0.0031 - val_accuracy: 0.9995\n",
      "Epoch 67/530\n",
      "531/531 [==============================] - 1s 1ms/step - loss: 0.0017 - accuracy: 0.9997 - val_loss: 0.0036 - val_accuracy: 0.9995\n",
      "Epoch 68/530\n",
      "531/531 [==============================] - 1s 1ms/step - loss: 0.0022 - accuracy: 0.9996 - val_loss: 0.0027 - val_accuracy: 0.9996\n",
      "Epoch 69/530\n",
      "531/531 [==============================] - 1s 1ms/step - loss: 0.0017 - accuracy: 0.9997 - val_loss: 0.0032 - val_accuracy: 0.9995\n",
      "Epoch 70/530\n",
      "531/531 [==============================] - 1s 1ms/step - loss: 0.0025 - accuracy: 0.9995 - val_loss: 0.0030 - val_accuracy: 0.9995\n",
      "Epoch 71/530\n",
      "531/531 [==============================] - 1s 1ms/step - loss: 0.0015 - accuracy: 0.9997 - val_loss: 0.0039 - val_accuracy: 0.9994\n",
      "Epoch 72/530\n",
      "531/531 [==============================] - 1s 1ms/step - loss: 0.0032 - accuracy: 0.9993 - val_loss: 0.0039 - val_accuracy: 0.9993\n",
      "Epoch 73/530\n",
      "531/531 [==============================] - 1s 1ms/step - loss: 0.0024 - accuracy: 0.9996 - val_loss: 0.0032 - val_accuracy: 0.9994\n",
      "Epoch 74/530\n",
      "531/531 [==============================] - 1s 1ms/step - loss: 0.0015 - accuracy: 0.9997 - val_loss: 0.0029 - val_accuracy: 0.9995\n",
      "Epoch 75/530\n",
      "531/531 [==============================] - 1s 1ms/step - loss: 0.0023 - accuracy: 0.9995 - val_loss: 0.0032 - val_accuracy: 0.9996\n",
      "Epoch 76/530\n",
      "531/531 [==============================] - 1s 1ms/step - loss: 0.0016 - accuracy: 0.9997 - val_loss: 0.0030 - val_accuracy: 0.9995\n",
      "Epoch 77/530\n",
      "531/531 [==============================] - 1s 1ms/step - loss: 0.0015 - accuracy: 0.9997 - val_loss: 0.0035 - val_accuracy: 0.9994\n",
      "Epoch 78/530\n",
      "531/531 [==============================] - 1s 1ms/step - loss: 0.0017 - accuracy: 0.9997 - val_loss: 0.0026 - val_accuracy: 0.9996\n",
      "Epoch 79/530\n",
      "531/531 [==============================] - 1s 2ms/step - loss: 0.0027 - accuracy: 0.9995 - val_loss: 0.0028 - val_accuracy: 0.9996\n",
      "Epoch 80/530\n",
      "531/531 [==============================] - 1s 1ms/step - loss: 0.0018 - accuracy: 0.9996 - val_loss: 0.0044 - val_accuracy: 0.9992\n",
      "Epoch 81/530\n",
      "531/531 [==============================] - 1s 1ms/step - loss: 0.0018 - accuracy: 0.9996 - val_loss: 0.0071 - val_accuracy: 0.9987\n",
      "Epoch 82/530\n",
      "531/531 [==============================] - 1s 1ms/step - loss: 0.0020 - accuracy: 0.9996 - val_loss: 0.0029 - val_accuracy: 0.9996\n",
      "Epoch 83/530\n",
      "531/531 [==============================] - 1s 1ms/step - loss: 0.0012 - accuracy: 0.9998 - val_loss: 0.0037 - val_accuracy: 0.9995\n",
      "Epoch 84/530\n",
      "531/531 [==============================] - 1s 1ms/step - loss: 0.0019 - accuracy: 0.9996 - val_loss: 0.0026 - val_accuracy: 0.9997\n",
      "Epoch 85/530\n",
      "531/531 [==============================] - 1s 1ms/step - loss: 0.0017 - accuracy: 0.9996 - val_loss: 0.0024 - val_accuracy: 0.9997\n",
      "Epoch 86/530\n",
      "531/531 [==============================] - 1s 1ms/step - loss: 0.0013 - accuracy: 0.9998 - val_loss: 0.0057 - val_accuracy: 0.9990\n",
      "Epoch 87/530\n",
      "531/531 [==============================] - 1s 1ms/step - loss: 0.0015 - accuracy: 0.9997 - val_loss: 0.0029 - val_accuracy: 0.9995\n",
      "Epoch 88/530\n",
      "531/531 [==============================] - 1s 1ms/step - loss: 0.0019 - accuracy: 0.9996 - val_loss: 0.0053 - val_accuracy: 0.9979\n",
      "Epoch 89/530\n",
      "531/531 [==============================] - 1s 1ms/step - loss: 0.0016 - accuracy: 0.9997 - val_loss: 0.0028 - val_accuracy: 0.9996\n",
      "Epoch 90/530\n",
      "531/531 [==============================] - 1s 3ms/step - loss: 0.0011 - accuracy: 0.9998 - val_loss: 0.0094 - val_accuracy: 0.9981\n",
      "Epoch 91/530\n",
      "531/531 [==============================] - 1s 1ms/step - loss: 0.0018 - accuracy: 0.9997 - val_loss: 0.0035 - val_accuracy: 0.9994\n",
      "Epoch 92/530\n",
      "531/531 [==============================] - 1s 2ms/step - loss: 0.0011 - accuracy: 0.9998 - val_loss: 0.0022 - val_accuracy: 0.9997\n",
      "Epoch 93/530\n",
      "531/531 [==============================] - 1s 2ms/step - loss: 0.0017 - accuracy: 0.9996 - val_loss: 0.0135 - val_accuracy: 0.9976\n",
      "Epoch 94/530\n",
      "531/531 [==============================] - 1s 2ms/step - loss: 0.0025 - accuracy: 0.9995 - val_loss: 0.0030 - val_accuracy: 0.9996\n",
      "Epoch 95/530\n",
      "531/531 [==============================] - 1s 1ms/step - loss: 0.0017 - accuracy: 0.9997 - val_loss: 0.0026 - val_accuracy: 0.9996\n",
      "Epoch 96/530\n",
      "531/531 [==============================] - 1s 1ms/step - loss: 0.0012 - accuracy: 0.9998 - val_loss: 0.0033 - val_accuracy: 0.9995\n",
      "Epoch 97/530\n",
      "531/531 [==============================] - 1s 1ms/step - loss: 0.0013 - accuracy: 0.9997 - val_loss: 0.0026 - val_accuracy: 0.9996\n",
      "Epoch 98/530\n",
      "531/531 [==============================] - 1s 1ms/step - loss: 0.0012 - accuracy: 0.9997 - val_loss: 0.0061 - val_accuracy: 0.9988\n",
      "Epoch 99/530\n",
      "531/531 [==============================] - 1s 1ms/step - loss: 0.0019 - accuracy: 0.9996 - val_loss: 0.0122 - val_accuracy: 0.9952\n",
      "Epoch 100/530\n",
      "531/531 [==============================] - 1s 1ms/step - loss: 0.0013 - accuracy: 0.9997 - val_loss: 0.0031 - val_accuracy: 0.9995\n",
      "Epoch 101/530\n",
      "531/531 [==============================] - 1s 1ms/step - loss: 0.0014 - accuracy: 0.9997 - val_loss: 0.0024 - val_accuracy: 0.9997\n",
      "Epoch 102/530\n",
      "531/531 [==============================] - 1s 1ms/step - loss: 9.4869e-04 - accuracy: 0.9998 - val_loss: 0.0025 - val_accuracy: 0.9996\n",
      "Epoch 103/530\n",
      "531/531 [==============================] - 1s 1ms/step - loss: 0.0028 - accuracy: 0.9994 - val_loss: 0.0025 - val_accuracy: 0.9997\n",
      "Epoch 104/530\n",
      "531/531 [==============================] - 1s 1ms/step - loss: 0.0018 - accuracy: 0.9996 - val_loss: 0.0030 - val_accuracy: 0.9995\n",
      "Epoch 105/530\n",
      "531/531 [==============================] - 1s 1ms/step - loss: 7.9564e-04 - accuracy: 0.9999 - val_loss: 0.0033 - val_accuracy: 0.9994\n",
      "Epoch 106/530\n",
      "531/531 [==============================] - 1s 2ms/step - loss: 0.0018 - accuracy: 0.9996 - val_loss: 0.0029 - val_accuracy: 0.9996\n",
      "Epoch 107/530\n",
      "531/531 [==============================] - 1s 2ms/step - loss: 0.0018 - accuracy: 0.9997 - val_loss: 0.0031 - val_accuracy: 0.9995\n",
      "Epoch 108/530\n",
      "531/531 [==============================] - 1s 1ms/step - loss: 8.3508e-04 - accuracy: 0.9999 - val_loss: 0.0024 - val_accuracy: 0.9996\n",
      "Epoch 109/530\n",
      "531/531 [==============================] - 1s 1ms/step - loss: 0.0017 - accuracy: 0.9997 - val_loss: 0.0031 - val_accuracy: 0.9995\n",
      "Epoch 110/530\n",
      "531/531 [==============================] - 1s 1ms/step - loss: 0.0013 - accuracy: 0.9997 - val_loss: 0.0038 - val_accuracy: 0.9995\n",
      "Epoch 111/530\n",
      "531/531 [==============================] - 1s 1ms/step - loss: 9.3138e-04 - accuracy: 0.9998 - val_loss: 0.0028 - val_accuracy: 0.9996\n",
      "Epoch 112/530\n",
      "531/531 [==============================] - 1s 1ms/step - loss: 0.0018 - accuracy: 0.9996 - val_loss: 0.0030 - val_accuracy: 0.9995\n",
      "Epoch 113/530\n",
      "531/531 [==============================] - 1s 1ms/step - loss: 0.0015 - accuracy: 0.9997 - val_loss: 0.0038 - val_accuracy: 0.9993\n",
      "Epoch 114/530\n"
     ]
    },
    {
     "name": "stdout",
     "output_type": "stream",
     "text": [
      "531/531 [==============================] - 1s 1ms/step - loss: 0.0015 - accuracy: 0.9997 - val_loss: 0.0039 - val_accuracy: 0.9993\n",
      "Epoch 115/530\n",
      "531/531 [==============================] - 1s 1ms/step - loss: 0.0015 - accuracy: 0.9997 - val_loss: 0.0026 - val_accuracy: 0.9997\n",
      "Epoch 116/530\n",
      "531/531 [==============================] - 1s 1ms/step - loss: 0.0010 - accuracy: 0.9998 - val_loss: 0.0033 - val_accuracy: 0.9995\n",
      "Epoch 117/530\n",
      "531/531 [==============================] - 1s 1ms/step - loss: 0.0014 - accuracy: 0.9997 - val_loss: 0.0040 - val_accuracy: 0.9993\n",
      "Epoch 118/530\n",
      "531/531 [==============================] - 1s 2ms/step - loss: 0.0017 - accuracy: 0.9996 - val_loss: 0.0027 - val_accuracy: 0.9996\n",
      "Epoch 119/530\n",
      "531/531 [==============================] - 1s 1ms/step - loss: 0.0015 - accuracy: 0.9997 - val_loss: 0.0029 - val_accuracy: 0.9995\n",
      "Epoch 120/530\n",
      "531/531 [==============================] - 1s 1ms/step - loss: 6.4952e-04 - accuracy: 0.9999 - val_loss: 0.0030 - val_accuracy: 0.9995\n",
      "Epoch 121/530\n",
      "531/531 [==============================] - 1s 1ms/step - loss: 0.0010 - accuracy: 0.9998 - val_loss: 0.0044 - val_accuracy: 0.9994\n",
      "Epoch 122/530\n",
      "531/531 [==============================] - 1s 1ms/step - loss: 0.0018 - accuracy: 0.9996 - val_loss: 0.0033 - val_accuracy: 0.9995\n",
      "Epoch 123/530\n",
      "531/531 [==============================] - 1s 1ms/step - loss: 9.7409e-04 - accuracy: 0.9998 - val_loss: 0.0032 - val_accuracy: 0.9995\n",
      "Epoch 124/530\n",
      "531/531 [==============================] - 1s 1ms/step - loss: 8.2941e-04 - accuracy: 0.9998 - val_loss: 0.0060 - val_accuracy: 0.9990\n",
      "Epoch 125/530\n",
      "531/531 [==============================] - 1s 1ms/step - loss: 0.0012 - accuracy: 0.9997 - val_loss: 0.0031 - val_accuracy: 0.9995\n",
      "Epoch 126/530\n",
      "531/531 [==============================] - 1s 1ms/step - loss: 0.0022 - accuracy: 0.9995 - val_loss: 0.0036 - val_accuracy: 0.9994\n",
      "Epoch 127/530\n",
      "531/531 [==============================] - 1s 1ms/step - loss: 0.0011 - accuracy: 0.9998 - val_loss: 0.0026 - val_accuracy: 0.9996\n",
      "Epoch 128/530\n",
      "531/531 [==============================] - 1s 1ms/step - loss: 0.0014 - accuracy: 0.9997 - val_loss: 0.0053 - val_accuracy: 0.9991\n",
      "Epoch 129/530\n",
      "531/531 [==============================] - 1s 1ms/step - loss: 0.0016 - accuracy: 0.9996 - val_loss: 0.0028 - val_accuracy: 0.9995\n",
      "Epoch 130/530\n",
      "531/531 [==============================] - 1s 1ms/step - loss: 6.2833e-04 - accuracy: 0.9999 - val_loss: 0.0027 - val_accuracy: 0.9996\n",
      "Epoch 131/530\n",
      "531/531 [==============================] - 1s 1ms/step - loss: 5.0921e-04 - accuracy: 0.9999 - val_loss: 0.0026 - val_accuracy: 0.9996\n",
      "Epoch 132/530\n",
      "531/531 [==============================] - 1s 1ms/step - loss: 0.0018 - accuracy: 0.9997 - val_loss: 0.0052 - val_accuracy: 0.9992\n",
      "Epoch 133/530\n",
      "531/531 [==============================] - 1s 1ms/step - loss: 0.0013 - accuracy: 0.9997 - val_loss: 0.0034 - val_accuracy: 0.9993\n",
      "Epoch 134/530\n",
      "531/531 [==============================] - 1s 1ms/step - loss: 9.1180e-04 - accuracy: 0.9998 - val_loss: 0.0033 - val_accuracy: 0.9995\n",
      "Epoch 135/530\n",
      "531/531 [==============================] - 1s 1ms/step - loss: 9.0041e-04 - accuracy: 0.9998 - val_loss: 0.0042 - val_accuracy: 0.9993\n",
      "Epoch 136/530\n",
      "531/531 [==============================] - 1s 1ms/step - loss: 8.9790e-04 - accuracy: 0.9998 - val_loss: 0.0025 - val_accuracy: 0.9996\n",
      "Epoch 137/530\n",
      "531/531 [==============================] - 1s 1ms/step - loss: 0.0017 - accuracy: 0.9997 - val_loss: 0.0032 - val_accuracy: 0.9994\n",
      "Epoch 138/530\n",
      "531/531 [==============================] - 1s 1ms/step - loss: 9.4541e-04 - accuracy: 0.9998 - val_loss: 0.0047 - val_accuracy: 0.9979\n",
      "Epoch 139/530\n",
      "531/531 [==============================] - 1s 1ms/step - loss: 9.9412e-04 - accuracy: 0.9998 - val_loss: 0.0028 - val_accuracy: 0.9996\n",
      "Epoch 140/530\n",
      "531/531 [==============================] - 1s 1ms/step - loss: 0.0011 - accuracy: 0.9998 - val_loss: 0.0030 - val_accuracy: 0.9995\n",
      "Epoch 141/530\n",
      "531/531 [==============================] - 1s 1ms/step - loss: 0.0010 - accuracy: 0.9998 - val_loss: 0.0022 - val_accuracy: 0.9997\n",
      "Epoch 142/530\n",
      "531/531 [==============================] - 1s 1ms/step - loss: 0.0024 - accuracy: 0.9996 - val_loss: 0.0050 - val_accuracy: 0.9991\n",
      "Epoch 143/530\n",
      "531/531 [==============================] - 1s 1ms/step - loss: 0.0012 - accuracy: 0.9997 - val_loss: 0.0028 - val_accuracy: 0.9996\n",
      "Epoch 144/530\n",
      "531/531 [==============================] - 1s 1ms/step - loss: 7.3712e-04 - accuracy: 0.9999 - val_loss: 0.0027 - val_accuracy: 0.9995\n",
      "Epoch 145/530\n",
      "531/531 [==============================] - 1s 1ms/step - loss: 8.0317e-04 - accuracy: 0.9999 - val_loss: 0.0023 - val_accuracy: 0.9997\n",
      "Epoch 146/530\n",
      "531/531 [==============================] - 1s 1ms/step - loss: 0.0017 - accuracy: 0.9997 - val_loss: 0.0027 - val_accuracy: 0.9995\n",
      "Epoch 147/530\n",
      "531/531 [==============================] - 1s 1ms/step - loss: 9.5312e-04 - accuracy: 0.9998 - val_loss: 0.0021 - val_accuracy: 0.9997\n",
      "Epoch 148/530\n",
      "531/531 [==============================] - 1s 1ms/step - loss: 7.8552e-04 - accuracy: 0.9999 - val_loss: 0.0023 - val_accuracy: 0.9997\n",
      "Epoch 149/530\n",
      "531/531 [==============================] - 1s 1ms/step - loss: 0.0018 - accuracy: 0.9996 - val_loss: 0.0023 - val_accuracy: 0.9996\n",
      "Epoch 150/530\n",
      "531/531 [==============================] - 1s 1ms/step - loss: 8.4144e-04 - accuracy: 0.9998 - val_loss: 0.0033 - val_accuracy: 0.9994\n",
      "Epoch 151/530\n",
      "531/531 [==============================] - 1s 1ms/step - loss: 8.6501e-04 - accuracy: 0.9998 - val_loss: 0.0023 - val_accuracy: 0.9996\n",
      "Epoch 152/530\n",
      "531/531 [==============================] - 1s 1ms/step - loss: 0.0010 - accuracy: 0.9998 - val_loss: 0.0035 - val_accuracy: 0.9995\n",
      "Epoch 153/530\n",
      "531/531 [==============================] - 1s 1ms/step - loss: 0.0012 - accuracy: 0.9997 - val_loss: 0.0028 - val_accuracy: 0.9996\n",
      "Epoch 154/530\n",
      "531/531 [==============================] - 1s 1ms/step - loss: 6.0840e-04 - accuracy: 0.9998 - val_loss: 0.0055 - val_accuracy: 0.9991\n",
      "Epoch 155/530\n",
      "531/531 [==============================] - 1s 1ms/step - loss: 0.0014 - accuracy: 0.9997 - val_loss: 0.0053 - val_accuracy: 0.9980\n",
      "Epoch 156/530\n",
      "531/531 [==============================] - 1s 1ms/step - loss: 8.4336e-04 - accuracy: 0.9998 - val_loss: 0.0035 - val_accuracy: 0.9995\n",
      "Epoch 157/530\n",
      "531/531 [==============================] - 1s 1ms/step - loss: 0.0013 - accuracy: 0.9997 - val_loss: 0.0026 - val_accuracy: 0.9997\n",
      "Epoch 158/530\n",
      "531/531 [==============================] - 1s 1ms/step - loss: 0.0013 - accuracy: 0.9998 - val_loss: 0.0027 - val_accuracy: 0.9996\n",
      "Epoch 159/530\n",
      "531/531 [==============================] - 1s 1ms/step - loss: 0.0010 - accuracy: 0.9998 - val_loss: 0.0033 - val_accuracy: 0.9996\n",
      "Epoch 160/530\n",
      "531/531 [==============================] - 1s 1ms/step - loss: 0.0013 - accuracy: 0.9997 - val_loss: 0.0039 - val_accuracy: 0.9994\n",
      "Epoch 161/530\n",
      "531/531 [==============================] - 1s 1ms/step - loss: 7.9788e-04 - accuracy: 0.9998 - val_loss: 0.0027 - val_accuracy: 0.9996\n",
      "Epoch 162/530\n",
      "531/531 [==============================] - 1s 1ms/step - loss: 0.0011 - accuracy: 0.9998 - val_loss: 0.0025 - val_accuracy: 0.9996\n",
      "Epoch 163/530\n",
      "531/531 [==============================] - 1s 1ms/step - loss: 6.2059e-04 - accuracy: 0.9999 - val_loss: 0.0023 - val_accuracy: 0.9997\n",
      "Epoch 164/530\n",
      "531/531 [==============================] - 1s 1ms/step - loss: 5.7806e-04 - accuracy: 0.9999 - val_loss: 0.0023 - val_accuracy: 0.9997\n",
      "Epoch 165/530\n",
      "531/531 [==============================] - 1s 1ms/step - loss: 5.7651e-04 - accuracy: 0.9999 - val_loss: 0.0028 - val_accuracy: 0.9996\n",
      "Epoch 166/530\n",
      "531/531 [==============================] - 1s 1ms/step - loss: 0.0015 - accuracy: 0.9997 - val_loss: 0.0036 - val_accuracy: 0.9994\n",
      "Epoch 167/530\n",
      "531/531 [==============================] - 1s 1ms/step - loss: 9.7116e-04 - accuracy: 0.9998 - val_loss: 0.0037 - val_accuracy: 0.9996\n",
      "Epoch 168/530\n",
      "531/531 [==============================] - 1s 1ms/step - loss: 0.0012 - accuracy: 0.9998 - val_loss: 0.0026 - val_accuracy: 0.9995\n",
      "Epoch 169/530\n",
      "531/531 [==============================] - 1s 2ms/step - loss: 0.0013 - accuracy: 0.9998 - val_loss: 0.0027 - val_accuracy: 0.9995\n"
     ]
    },
    {
     "name": "stdout",
     "output_type": "stream",
     "text": [
      "Epoch 170/530\n",
      "531/531 [==============================] - 1s 2ms/step - loss: 3.7263e-04 - accuracy: 0.9999 - val_loss: 0.0037 - val_accuracy: 0.9994\n",
      "Epoch 171/530\n",
      "531/531 [==============================] - 1s 1ms/step - loss: 0.0014 - accuracy: 0.9997 - val_loss: 0.0037 - val_accuracy: 0.9994\n",
      "Epoch 172/530\n",
      "531/531 [==============================] - 1s 1ms/step - loss: 0.0013 - accuracy: 0.9997 - val_loss: 0.0033 - val_accuracy: 0.9995\n",
      "Epoch 173/530\n",
      "531/531 [==============================] - 1s 1ms/step - loss: 7.6294e-04 - accuracy: 0.9998 - val_loss: 0.0032 - val_accuracy: 0.9995\n",
      "Epoch 174/530\n",
      "531/531 [==============================] - 1s 1ms/step - loss: 4.7754e-04 - accuracy: 0.9999 - val_loss: 0.0024 - val_accuracy: 0.9997\n",
      "Epoch 175/530\n",
      "531/531 [==============================] - 1s 1ms/step - loss: 8.1607e-04 - accuracy: 0.9998 - val_loss: 0.0038 - val_accuracy: 0.9995\n",
      "Epoch 176/530\n",
      "531/531 [==============================] - 1s 1ms/step - loss: 4.4228e-04 - accuracy: 0.9999 - val_loss: 0.0059 - val_accuracy: 0.9992\n",
      "Epoch 177/530\n",
      "531/531 [==============================] - 1s 1ms/step - loss: 0.0025 - accuracy: 0.9995 - val_loss: 0.0030 - val_accuracy: 0.9996\n",
      "Epoch 178/530\n",
      "531/531 [==============================] - 1s 2ms/step - loss: 5.0988e-04 - accuracy: 0.9999 - val_loss: 0.0034 - val_accuracy: 0.9995\n",
      "Epoch 179/530\n",
      "531/531 [==============================] - 1s 1ms/step - loss: 9.5607e-04 - accuracy: 0.9998 - val_loss: 0.0026 - val_accuracy: 0.9998\n",
      "Epoch 180/530\n",
      "531/531 [==============================] - 1s 2ms/step - loss: 8.5917e-04 - accuracy: 0.9998 - val_loss: 0.0026 - val_accuracy: 0.9996\n",
      "Epoch 181/530\n",
      "531/531 [==============================] - 1s 1ms/step - loss: 7.4235e-04 - accuracy: 0.9999 - val_loss: 0.0023 - val_accuracy: 0.9997\n",
      "Epoch 182/530\n",
      "531/531 [==============================] - 1s 1ms/step - loss: 7.0005e-04 - accuracy: 0.9998 - val_loss: 0.0040 - val_accuracy: 0.9994\n",
      "Epoch 183/530\n",
      "531/531 [==============================] - 1s 1ms/step - loss: 6.7962e-04 - accuracy: 0.9999 - val_loss: 0.0028 - val_accuracy: 0.9995\n",
      "Epoch 184/530\n",
      "531/531 [==============================] - 1s 1ms/step - loss: 4.5777e-04 - accuracy: 0.9999 - val_loss: 0.0024 - val_accuracy: 0.9997\n",
      "Epoch 185/530\n",
      "531/531 [==============================] - 1s 1ms/step - loss: 2.9913e-04 - accuracy: 0.9999 - val_loss: 0.0024 - val_accuracy: 0.9998\n",
      "Epoch 186/530\n",
      "531/531 [==============================] - 1s 1ms/step - loss: 0.0011 - accuracy: 0.9998 - val_loss: 0.0054 - val_accuracy: 0.9991\n",
      "Epoch 187/530\n",
      "531/531 [==============================] - 1s 1ms/step - loss: 0.0015 - accuracy: 0.9997 - val_loss: 0.0049 - val_accuracy: 0.9992\n",
      "Epoch 188/530\n",
      "531/531 [==============================] - 1s 1ms/step - loss: 6.2101e-04 - accuracy: 0.9999 - val_loss: 0.0027 - val_accuracy: 0.9996\n",
      "Epoch 189/530\n",
      "531/531 [==============================] - 1s 1ms/step - loss: 5.4929e-04 - accuracy: 0.9999 - val_loss: 0.0026 - val_accuracy: 0.9997\n",
      "Epoch 190/530\n",
      "531/531 [==============================] - 1s 1ms/step - loss: 7.1701e-04 - accuracy: 0.9999 - val_loss: 0.0026 - val_accuracy: 0.9996\n",
      "Epoch 191/530\n",
      "531/531 [==============================] - 1s 1ms/step - loss: 5.5098e-04 - accuracy: 0.9999 - val_loss: 0.0025 - val_accuracy: 0.9997\n",
      "Epoch 192/530\n",
      "531/531 [==============================] - 1s 1ms/step - loss: 0.0011 - accuracy: 0.9998 - val_loss: 0.0027 - val_accuracy: 0.9996\n",
      "Epoch 193/530\n",
      "531/531 [==============================] - 1s 1ms/step - loss: 9.7651e-04 - accuracy: 0.9998 - val_loss: 0.0032 - val_accuracy: 0.9995\n",
      "Epoch 194/530\n",
      "531/531 [==============================] - 1s 1ms/step - loss: 5.6954e-04 - accuracy: 0.9999 - val_loss: 0.0027 - val_accuracy: 0.9997\n",
      "Epoch 195/530\n",
      "531/531 [==============================] - 1s 1ms/step - loss: 3.0198e-04 - accuracy: 0.9999 - val_loss: 0.0041 - val_accuracy: 0.9995\n",
      "Epoch 196/530\n",
      "531/531 [==============================] - 1s 1ms/step - loss: 4.2612e-04 - accuracy: 0.9999 - val_loss: 0.0032 - val_accuracy: 0.9996\n",
      "Epoch 197/530\n",
      "531/531 [==============================] - 1s 1ms/step - loss: 8.8451e-04 - accuracy: 0.9998 - val_loss: 0.0053 - val_accuracy: 0.9992\n",
      "Epoch 198/530\n",
      "531/531 [==============================] - 1s 1ms/step - loss: 0.0012 - accuracy: 0.9997 - val_loss: 0.0027 - val_accuracy: 0.9996\n",
      "Epoch 199/530\n",
      "531/531 [==============================] - 1s 1ms/step - loss: 8.4120e-04 - accuracy: 0.9998 - val_loss: 0.0019 - val_accuracy: 0.9998\n",
      "Epoch 200/530\n",
      "531/531 [==============================] - 1s 1ms/step - loss: 4.0110e-04 - accuracy: 0.9999 - val_loss: 0.0019 - val_accuracy: 0.9998\n",
      "Epoch 201/530\n",
      "531/531 [==============================] - 1s 1ms/step - loss: 6.2890e-04 - accuracy: 0.9999 - val_loss: 0.0029 - val_accuracy: 0.9996\n",
      "Epoch 202/530\n",
      "531/531 [==============================] - 1s 1ms/step - loss: 9.9812e-04 - accuracy: 0.9998 - val_loss: 0.0020 - val_accuracy: 0.9997\n",
      "Epoch 203/530\n",
      "531/531 [==============================] - 1s 1ms/step - loss: 6.2396e-04 - accuracy: 0.9999 - val_loss: 0.0086 - val_accuracy: 0.9984\n",
      "Epoch 204/530\n",
      "531/531 [==============================] - 1s 1ms/step - loss: 7.2820e-04 - accuracy: 0.9998 - val_loss: 0.0060 - val_accuracy: 0.9991\n",
      "Epoch 205/530\n",
      "531/531 [==============================] - 1s 1ms/step - loss: 9.7982e-04 - accuracy: 0.9998 - val_loss: 0.0032 - val_accuracy: 0.9995\n",
      "Epoch 206/530\n",
      "531/531 [==============================] - 1s 1ms/step - loss: 0.0018 - accuracy: 0.9997 - val_loss: 0.0021 - val_accuracy: 0.9997\n",
      "Epoch 207/530\n",
      "531/531 [==============================] - 1s 1ms/step - loss: 0.0010 - accuracy: 0.9998 - val_loss: 0.0034 - val_accuracy: 0.9995\n",
      "Epoch 208/530\n",
      "531/531 [==============================] - 1s 1ms/step - loss: 5.6348e-04 - accuracy: 0.9999 - val_loss: 0.0026 - val_accuracy: 0.9997\n",
      "Epoch 209/530\n",
      "531/531 [==============================] - 1s 1ms/step - loss: 4.6684e-04 - accuracy: 0.9999 - val_loss: 0.0042 - val_accuracy: 0.9994\n",
      "Epoch 210/530\n",
      "531/531 [==============================] - 1s 1ms/step - loss: 5.9237e-04 - accuracy: 0.9999 - val_loss: 0.0023 - val_accuracy: 0.9997\n",
      "Epoch 211/530\n",
      "531/531 [==============================] - 1s 1ms/step - loss: 6.7933e-04 - accuracy: 0.9999 - val_loss: 0.0023 - val_accuracy: 0.9997\n",
      "Epoch 212/530\n",
      "531/531 [==============================] - 1s 1ms/step - loss: 0.0011 - accuracy: 0.9998 - val_loss: 0.0040 - val_accuracy: 0.9994\n",
      "Epoch 213/530\n",
      "531/531 [==============================] - 1s 1ms/step - loss: 6.4426e-04 - accuracy: 0.9999 - val_loss: 0.0029 - val_accuracy: 0.9996\n",
      "Epoch 214/530\n",
      "531/531 [==============================] - 1s 1ms/step - loss: 5.0682e-04 - accuracy: 0.9999 - val_loss: 0.0030 - val_accuracy: 0.9996\n",
      "Epoch 215/530\n",
      "531/531 [==============================] - 1s 1ms/step - loss: 0.0011 - accuracy: 0.9998 - val_loss: 0.0030 - val_accuracy: 0.9996\n",
      "Epoch 216/530\n",
      "531/531 [==============================] - 1s 1ms/step - loss: 2.8736e-04 - accuracy: 0.9999 - val_loss: 0.0034 - val_accuracy: 0.9996\n",
      "Epoch 217/530\n",
      "531/531 [==============================] - 1s 1ms/step - loss: 3.4153e-04 - accuracy: 0.9999 - val_loss: 0.0029 - val_accuracy: 0.9997\n",
      "Epoch 218/530\n",
      "531/531 [==============================] - 1s 1ms/step - loss: 9.9552e-04 - accuracy: 0.9998 - val_loss: 0.0033 - val_accuracy: 0.9995\n",
      "Epoch 219/530\n",
      "531/531 [==============================] - 1s 1ms/step - loss: 8.6702e-04 - accuracy: 0.9998 - val_loss: 0.0029 - val_accuracy: 0.9996\n",
      "Epoch 220/530\n",
      "531/531 [==============================] - 1s 1ms/step - loss: 4.8893e-04 - accuracy: 0.9999 - val_loss: 0.0030 - val_accuracy: 0.9996\n",
      "Epoch 221/530\n",
      "531/531 [==============================] - 1s 1ms/step - loss: 3.3635e-04 - accuracy: 0.9999 - val_loss: 0.0029 - val_accuracy: 0.9996\n",
      "Epoch 222/530\n",
      "531/531 [==============================] - 1s 1ms/step - loss: 0.0010 - accuracy: 0.9998 - val_loss: 0.0038 - val_accuracy: 0.9994\n",
      "Epoch 223/530\n",
      "531/531 [==============================] - 1s 1ms/step - loss: 9.0588e-04 - accuracy: 0.9998 - val_loss: 0.0050 - val_accuracy: 0.9993\n",
      "Epoch 224/530\n",
      "531/531 [==============================] - 1s 1ms/step - loss: 6.7456e-04 - accuracy: 0.9999 - val_loss: 0.0047 - val_accuracy: 0.9994\n",
      "Epoch 225/530\n"
     ]
    },
    {
     "name": "stdout",
     "output_type": "stream",
     "text": [
      "531/531 [==============================] - 1s 1ms/step - loss: 8.5766e-04 - accuracy: 0.9998 - val_loss: 0.0022 - val_accuracy: 0.9998\n",
      "Epoch 226/530\n",
      "531/531 [==============================] - 1s 2ms/step - loss: 8.1089e-04 - accuracy: 0.9999 - val_loss: 0.0022 - val_accuracy: 0.9997\n",
      "Epoch 227/530\n",
      "531/531 [==============================] - 1s 2ms/step - loss: 4.2111e-04 - accuracy: 0.9999 - val_loss: 0.0022 - val_accuracy: 0.9997\n",
      "Epoch 228/530\n",
      "531/531 [==============================] - 1s 2ms/step - loss: 8.9213e-04 - accuracy: 0.9998 - val_loss: 0.0026 - val_accuracy: 0.9996\n",
      "Epoch 229/530\n",
      "531/531 [==============================] - 1s 2ms/step - loss: 9.2657e-04 - accuracy: 0.9998 - val_loss: 0.0026 - val_accuracy: 0.9996\n",
      "Epoch 230/530\n",
      "531/531 [==============================] - 1s 1ms/step - loss: 5.0783e-04 - accuracy: 0.9999 - val_loss: 0.0027 - val_accuracy: 0.9996\n",
      "Epoch 231/530\n",
      "531/531 [==============================] - 1s 1ms/step - loss: 5.8693e-04 - accuracy: 0.9999 - val_loss: 0.0028 - val_accuracy: 0.9996\n",
      "Epoch 232/530\n",
      "531/531 [==============================] - 1s 1ms/step - loss: 5.6071e-04 - accuracy: 0.9999 - val_loss: 0.0024 - val_accuracy: 0.9997\n",
      "Epoch 233/530\n",
      "531/531 [==============================] - 1s 1ms/step - loss: 7.2847e-04 - accuracy: 0.9998 - val_loss: 0.0024 - val_accuracy: 0.9997\n",
      "Epoch 234/530\n",
      "531/531 [==============================] - 1s 1ms/step - loss: 4.0005e-04 - accuracy: 0.9999 - val_loss: 0.0036 - val_accuracy: 0.9995\n",
      "Epoch 235/530\n",
      "531/531 [==============================] - 1s 1ms/step - loss: 6.9848e-04 - accuracy: 0.9998 - val_loss: 0.0027 - val_accuracy: 0.9997\n",
      "Epoch 236/530\n",
      "531/531 [==============================] - 1s 2ms/step - loss: 3.1307e-04 - accuracy: 0.9999 - val_loss: 0.0024 - val_accuracy: 0.9997\n",
      "Epoch 237/530\n",
      "531/531 [==============================] - 1s 1ms/step - loss: 8.8156e-04 - accuracy: 0.9998 - val_loss: 0.0040 - val_accuracy: 0.9992\n",
      "Epoch 238/530\n",
      "531/531 [==============================] - 1s 1ms/step - loss: 7.4775e-04 - accuracy: 0.9999 - val_loss: 0.0032 - val_accuracy: 0.9995\n",
      "Epoch 239/530\n",
      "531/531 [==============================] - 1s 1ms/step - loss: 2.7312e-04 - accuracy: 0.9999 - val_loss: 0.0028 - val_accuracy: 0.9996\n",
      "Epoch 240/530\n",
      "531/531 [==============================] - 1s 1ms/step - loss: 8.3751e-04 - accuracy: 0.9998 - val_loss: 0.0042 - val_accuracy: 0.9993\n",
      "Epoch 241/530\n",
      "531/531 [==============================] - 1s 1ms/step - loss: 0.0011 - accuracy: 0.9998 - val_loss: 0.0022 - val_accuracy: 0.9997\n",
      "Epoch 242/530\n",
      "531/531 [==============================] - 1s 1ms/step - loss: 4.3562e-04 - accuracy: 0.9999 - val_loss: 0.0024 - val_accuracy: 0.9997\n",
      "Epoch 243/530\n",
      "531/531 [==============================] - 1s 2ms/step - loss: 5.4301e-04 - accuracy: 0.9999 - val_loss: 0.0032 - val_accuracy: 0.9996\n",
      "Epoch 244/530\n",
      "531/531 [==============================] - 1s 1ms/step - loss: 8.9003e-04 - accuracy: 0.9998 - val_loss: 0.0026 - val_accuracy: 0.9997\n",
      "Epoch 245/530\n",
      "531/531 [==============================] - 1s 1ms/step - loss: 2.4710e-04 - accuracy: 1.0000 - val_loss: 0.0024 - val_accuracy: 0.9997\n",
      "Epoch 246/530\n",
      "531/531 [==============================] - 1s 1ms/step - loss: 4.0748e-04 - accuracy: 0.9999 - val_loss: 0.0035 - val_accuracy: 0.9996\n",
      "Epoch 247/530\n",
      "531/531 [==============================] - 1s 2ms/step - loss: 7.3719e-04 - accuracy: 0.9998 - val_loss: 0.0028 - val_accuracy: 0.9997\n",
      "Epoch 248/530\n",
      "531/531 [==============================] - 1s 2ms/step - loss: 5.2130e-04 - accuracy: 0.9999 - val_loss: 0.0026 - val_accuracy: 0.9997\n",
      "Epoch 249/530\n",
      "531/531 [==============================] - 1s 2ms/step - loss: 6.6241e-04 - accuracy: 0.9999 - val_loss: 0.0051 - val_accuracy: 0.9979\n",
      "Epoch 250/530\n",
      "531/531 [==============================] - 1s 1ms/step - loss: 0.0014 - accuracy: 0.9998 - val_loss: 0.0031 - val_accuracy: 0.9995\n",
      "Epoch 251/530\n",
      "531/531 [==============================] - 1s 1ms/step - loss: 2.9290e-04 - accuracy: 1.0000 - val_loss: 0.0025 - val_accuracy: 0.9997\n",
      "Epoch 252/530\n",
      "531/531 [==============================] - 1s 1ms/step - loss: 5.8788e-04 - accuracy: 0.9999 - val_loss: 0.0029 - val_accuracy: 0.9996\n",
      "Epoch 253/530\n",
      "531/531 [==============================] - 1s 1ms/step - loss: 2.8549e-04 - accuracy: 0.9999 - val_loss: 0.0028 - val_accuracy: 0.9996\n",
      "Epoch 254/530\n",
      "531/531 [==============================] - 1s 1ms/step - loss: 2.0230e-04 - accuracy: 1.0000 - val_loss: 0.0024 - val_accuracy: 0.9997\n",
      "Epoch 255/530\n",
      "531/531 [==============================] - 1s 2ms/step - loss: 9.5520e-04 - accuracy: 0.9998 - val_loss: 0.0028 - val_accuracy: 0.9996\n",
      "Epoch 256/530\n",
      "531/531 [==============================] - 1s 2ms/step - loss: 6.6408e-04 - accuracy: 0.9999 - val_loss: 0.0031 - val_accuracy: 0.9996\n",
      "Epoch 257/530\n",
      "531/531 [==============================] - 1s 2ms/step - loss: 6.3150e-04 - accuracy: 0.9999 - val_loss: 0.0020 - val_accuracy: 0.9997\n",
      "Epoch 258/530\n",
      "531/531 [==============================] - 1s 2ms/step - loss: 4.7800e-04 - accuracy: 0.9999 - val_loss: 0.0033 - val_accuracy: 0.9995\n",
      "Epoch 259/530\n",
      "531/531 [==============================] - 1s 1ms/step - loss: 4.8614e-04 - accuracy: 0.9999 - val_loss: 0.0031 - val_accuracy: 0.9996\n",
      "Epoch 260/530\n",
      "531/531 [==============================] - 1s 1ms/step - loss: 4.8521e-04 - accuracy: 0.9999 - val_loss: 0.0024 - val_accuracy: 0.9997\n",
      "Epoch 261/530\n",
      "531/531 [==============================] - 1s 1ms/step - loss: 0.0012 - accuracy: 0.9997 - val_loss: 0.0023 - val_accuracy: 0.9997\n",
      "Epoch 262/530\n",
      "531/531 [==============================] - 1s 1ms/step - loss: 0.0014 - accuracy: 0.9997 - val_loss: 0.0025 - val_accuracy: 0.9996\n",
      "Epoch 263/530\n",
      "531/531 [==============================] - 1s 1ms/step - loss: 5.5876e-04 - accuracy: 0.9999 - val_loss: 0.0024 - val_accuracy: 0.9996\n",
      "Epoch 264/530\n",
      "531/531 [==============================] - 1s 1ms/step - loss: 3.6877e-04 - accuracy: 0.9999 - val_loss: 0.0026 - val_accuracy: 0.9996\n",
      "Epoch 265/530\n",
      "531/531 [==============================] - 1s 1ms/step - loss: 6.2040e-04 - accuracy: 0.9999 - val_loss: 0.0041 - val_accuracy: 0.9994\n",
      "Epoch 266/530\n",
      "531/531 [==============================] - 1s 2ms/step - loss: 6.7225e-04 - accuracy: 0.9998 - val_loss: 0.0026 - val_accuracy: 0.9996\n",
      "Epoch 267/530\n",
      "531/531 [==============================] - 1s 1ms/step - loss: 4.0544e-04 - accuracy: 0.9999 - val_loss: 0.0031 - val_accuracy: 0.9996\n",
      "Epoch 268/530\n",
      "531/531 [==============================] - 1s 1ms/step - loss: 5.4301e-04 - accuracy: 0.9999 - val_loss: 0.0031 - val_accuracy: 0.9997\n",
      "Epoch 269/530\n",
      "531/531 [==============================] - 1s 1ms/step - loss: 3.1254e-04 - accuracy: 0.9999 - val_loss: 0.0037 - val_accuracy: 0.9995\n",
      "Epoch 270/530\n",
      "531/531 [==============================] - 1s 1ms/step - loss: 2.5614e-04 - accuracy: 0.9999 - val_loss: 0.0028 - val_accuracy: 0.9996\n",
      "Epoch 271/530\n",
      "531/531 [==============================] - 1s 1ms/step - loss: 2.3548e-04 - accuracy: 1.0000 - val_loss: 0.0029 - val_accuracy: 0.9996\n",
      "Epoch 272/530\n",
      "531/531 [==============================] - 1s 1ms/step - loss: 6.1836e-04 - accuracy: 0.9999 - val_loss: 0.0031 - val_accuracy: 0.9996\n",
      "Epoch 273/530\n",
      "531/531 [==============================] - 1s 1ms/step - loss: 4.4100e-04 - accuracy: 0.9999 - val_loss: 0.0028 - val_accuracy: 0.9997\n",
      "Epoch 274/530\n",
      "531/531 [==============================] - 1s 1ms/step - loss: 0.0014 - accuracy: 0.9997 - val_loss: 0.0024 - val_accuracy: 0.9997\n",
      "Epoch 275/530\n",
      "531/531 [==============================] - 1s 1ms/step - loss: 4.4471e-04 - accuracy: 0.9999 - val_loss: 0.0025 - val_accuracy: 0.9996\n",
      "Epoch 276/530\n",
      "531/531 [==============================] - 1s 1ms/step - loss: 4.2114e-04 - accuracy: 0.9999 - val_loss: 0.0028 - val_accuracy: 0.9997\n",
      "Epoch 277/530\n",
      "531/531 [==============================] - 1s 1ms/step - loss: 0.0011 - accuracy: 0.9998 - val_loss: 0.0026 - val_accuracy: 0.9996\n",
      "Epoch 278/530\n",
      "531/531 [==============================] - 1s 1ms/step - loss: 4.3553e-04 - accuracy: 0.9999 - val_loss: 0.0027 - val_accuracy: 0.9997\n",
      "Epoch 279/530\n",
      "531/531 [==============================] - 1s 2ms/step - loss: 2.0829e-04 - accuracy: 1.0000 - val_loss: 0.0025 - val_accuracy: 0.9997\n",
      "Epoch 280/530\n"
     ]
    },
    {
     "name": "stdout",
     "output_type": "stream",
     "text": [
      "531/531 [==============================] - 1s 2ms/step - loss: 3.4235e-04 - accuracy: 0.9999 - val_loss: 0.0026 - val_accuracy: 0.9997\n",
      "Epoch 281/530\n",
      "531/531 [==============================] - 1s 1ms/step - loss: 4.2369e-04 - accuracy: 0.9999 - val_loss: 0.0031 - val_accuracy: 0.9996\n",
      "Epoch 282/530\n",
      "531/531 [==============================] - 1s 1ms/step - loss: 5.7828e-04 - accuracy: 0.9999 - val_loss: 0.0025 - val_accuracy: 0.9997\n",
      "Epoch 283/530\n",
      "531/531 [==============================] - 1s 1ms/step - loss: 6.2719e-04 - accuracy: 0.9999 - val_loss: 0.0022 - val_accuracy: 0.9997\n",
      "Epoch 284/530\n",
      "531/531 [==============================] - 1s 1ms/step - loss: 3.9672e-04 - accuracy: 0.9999 - val_loss: 0.0026 - val_accuracy: 0.9997\n",
      "Epoch 285/530\n",
      "531/531 [==============================] - 1s 1ms/step - loss: 0.0012 - accuracy: 0.9998 - val_loss: 0.0029 - val_accuracy: 0.9996\n",
      "Epoch 286/530\n",
      "531/531 [==============================] - 1s 1ms/step - loss: 6.9396e-04 - accuracy: 0.9999 - val_loss: 0.0034 - val_accuracy: 0.9995\n",
      "Epoch 287/530\n",
      "531/531 [==============================] - 1s 1ms/step - loss: 6.7850e-04 - accuracy: 0.9999 - val_loss: 0.0036 - val_accuracy: 0.9995\n",
      "Epoch 288/530\n",
      "531/531 [==============================] - 1s 2ms/step - loss: 6.0130e-04 - accuracy: 0.9999 - val_loss: 0.0027 - val_accuracy: 0.9997\n",
      "Epoch 289/530\n",
      "531/531 [==============================] - 1s 1ms/step - loss: 2.7285e-04 - accuracy: 1.0000 - val_loss: 0.0028 - val_accuracy: 0.9996\n",
      "Epoch 290/530\n",
      "531/531 [==============================] - 1s 1ms/step - loss: 5.6135e-04 - accuracy: 0.9999 - val_loss: 0.0026 - val_accuracy: 0.9997\n",
      "Epoch 291/530\n",
      "531/531 [==============================] - 1s 1ms/step - loss: 7.0979e-04 - accuracy: 0.9998 - val_loss: 0.0026 - val_accuracy: 0.9997\n",
      "Epoch 292/530\n",
      "531/531 [==============================] - 1s 1ms/step - loss: 2.7887e-04 - accuracy: 1.0000 - val_loss: 0.0027 - val_accuracy: 0.9997\n",
      "Epoch 293/530\n",
      "531/531 [==============================] - 1s 1ms/step - loss: 3.3504e-04 - accuracy: 0.9999 - val_loss: 0.0034 - val_accuracy: 0.9995\n",
      "Epoch 294/530\n",
      "531/531 [==============================] - 1s 1ms/step - loss: 2.8034e-04 - accuracy: 0.9999 - val_loss: 0.0031 - val_accuracy: 0.9996\n",
      "Epoch 295/530\n",
      "531/531 [==============================] - 1s 1ms/step - loss: 0.0020 - accuracy: 0.9996 - val_loss: 0.0027 - val_accuracy: 0.9996\n",
      "Epoch 296/530\n",
      "531/531 [==============================] - 1s 1ms/step - loss: 5.3795e-04 - accuracy: 0.9999 - val_loss: 0.0036 - val_accuracy: 0.9997\n",
      "Epoch 297/530\n",
      "531/531 [==============================] - 1s 1ms/step - loss: 4.7402e-04 - accuracy: 0.9999 - val_loss: 0.0041 - val_accuracy: 0.9996\n",
      "Epoch 298/530\n",
      "531/531 [==============================] - 1s 1ms/step - loss: 3.9273e-04 - accuracy: 0.9999 - val_loss: 0.0024 - val_accuracy: 0.9997\n",
      "Epoch 299/530\n",
      "531/531 [==============================] - 1s 1ms/step - loss: 3.3106e-04 - accuracy: 0.9999 - val_loss: 0.0044 - val_accuracy: 0.9996\n",
      "Epoch 300/530\n",
      "531/531 [==============================] - 1s 1ms/step - loss: 8.9679e-04 - accuracy: 0.9998 - val_loss: 0.0029 - val_accuracy: 0.9996\n",
      "Epoch 301/530\n",
      "531/531 [==============================] - 1s 2ms/step - loss: 6.3545e-04 - accuracy: 0.9999 - val_loss: 0.0047 - val_accuracy: 0.9993\n",
      "Epoch 302/530\n",
      "531/531 [==============================] - 1s 1ms/step - loss: 0.0012 - accuracy: 0.9998 - val_loss: 0.0028 - val_accuracy: 0.9996\n",
      "Epoch 303/530\n",
      "531/531 [==============================] - 1s 1ms/step - loss: 5.1786e-04 - accuracy: 0.9999 - val_loss: 0.0033 - val_accuracy: 0.9996\n",
      "Epoch 304/530\n",
      "531/531 [==============================] - 1s 1ms/step - loss: 2.7375e-04 - accuracy: 0.9999 - val_loss: 0.0033 - val_accuracy: 0.9996\n",
      "Epoch 305/530\n",
      "531/531 [==============================] - 1s 1ms/step - loss: 9.7939e-04 - accuracy: 0.9998 - val_loss: 0.0031 - val_accuracy: 0.9996\n",
      "Epoch 306/530\n",
      "531/531 [==============================] - 1s 1ms/step - loss: 4.1528e-04 - accuracy: 0.9999 - val_loss: 0.0030 - val_accuracy: 0.9996\n",
      "Epoch 307/530\n",
      "531/531 [==============================] - 1s 1ms/step - loss: 2.5613e-04 - accuracy: 1.0000 - val_loss: 0.0026 - val_accuracy: 0.9997\n",
      "Epoch 308/530\n",
      "531/531 [==============================] - 1s 1ms/step - loss: 2.2754e-04 - accuracy: 1.0000 - val_loss: 0.0028 - val_accuracy: 0.9996\n",
      "Epoch 309/530\n",
      "531/531 [==============================] - 1s 1ms/step - loss: 2.0496e-04 - accuracy: 1.0000 - val_loss: 0.0032 - val_accuracy: 0.9996\n",
      "Epoch 310/530\n",
      "531/531 [==============================] - 1s 1ms/step - loss: 7.0872e-04 - accuracy: 0.9999 - val_loss: 0.0024 - val_accuracy: 0.9997\n",
      "Epoch 311/530\n",
      "531/531 [==============================] - 1s 1ms/step - loss: 3.8023e-04 - accuracy: 0.9999 - val_loss: 0.0034 - val_accuracy: 0.9996\n",
      "Epoch 312/530\n",
      "531/531 [==============================] - 1s 1ms/step - loss: 2.6698e-04 - accuracy: 0.9999 - val_loss: 0.0028 - val_accuracy: 0.9996\n",
      "Epoch 313/530\n",
      "531/531 [==============================] - 1s 1ms/step - loss: 6.0376e-04 - accuracy: 0.9999 - val_loss: 0.0033 - val_accuracy: 0.9996\n",
      "Epoch 314/530\n",
      "531/531 [==============================] - 1s 1ms/step - loss: 0.0012 - accuracy: 0.9998 - val_loss: 0.0020 - val_accuracy: 0.9998\n",
      "Epoch 315/530\n",
      "531/531 [==============================] - 1s 1ms/step - loss: 2.3793e-04 - accuracy: 1.0000 - val_loss: 0.0025 - val_accuracy: 0.9997\n",
      "Epoch 316/530\n",
      "531/531 [==============================] - 1s 1ms/step - loss: 6.5831e-04 - accuracy: 0.9999 - val_loss: 0.0026 - val_accuracy: 0.9996\n",
      "Epoch 317/530\n",
      "531/531 [==============================] - 1s 1ms/step - loss: 3.3794e-04 - accuracy: 0.9999 - val_loss: 0.0026 - val_accuracy: 0.9997\n",
      "Epoch 318/530\n",
      "531/531 [==============================] - 1s 1ms/step - loss: 6.4885e-04 - accuracy: 0.9999 - val_loss: 0.0027 - val_accuracy: 0.9996\n",
      "Epoch 319/530\n",
      "531/531 [==============================] - 1s 1ms/step - loss: 6.2053e-04 - accuracy: 0.9999 - val_loss: 0.0051 - val_accuracy: 0.9993\n",
      "Epoch 320/530\n",
      "531/531 [==============================] - 1s 1ms/step - loss: 8.8935e-04 - accuracy: 0.9998 - val_loss: 0.0055 - val_accuracy: 0.9991\n",
      "Epoch 321/530\n",
      "531/531 [==============================] - 1s 1ms/step - loss: 8.0633e-04 - accuracy: 0.9998 - val_loss: 0.0028 - val_accuracy: 0.9996\n",
      "Epoch 322/530\n",
      "531/531 [==============================] - 1s 1ms/step - loss: 3.4944e-04 - accuracy: 0.9999 - val_loss: 0.0028 - val_accuracy: 0.9996\n",
      "Epoch 323/530\n",
      "531/531 [==============================] - 1s 1ms/step - loss: 2.2923e-04 - accuracy: 1.0000 - val_loss: 0.0028 - val_accuracy: 0.9997\n",
      "Epoch 324/530\n",
      "531/531 [==============================] - 1s 1ms/step - loss: 7.3467e-04 - accuracy: 0.9999 - val_loss: 0.0052 - val_accuracy: 0.9994\n",
      "Epoch 325/530\n",
      "531/531 [==============================] - 1s 1ms/step - loss: 9.5186e-04 - accuracy: 0.9998 - val_loss: 0.0035 - val_accuracy: 0.9995\n",
      "Epoch 326/530\n",
      "531/531 [==============================] - 1s 1ms/step - loss: 3.7004e-04 - accuracy: 0.9999 - val_loss: 0.0023 - val_accuracy: 0.9997\n",
      "Epoch 327/530\n",
      "531/531 [==============================] - 1s 1ms/step - loss: 1.8280e-04 - accuracy: 1.0000 - val_loss: 0.0022 - val_accuracy: 0.9998\n",
      "Epoch 328/530\n",
      "531/531 [==============================] - 1s 1ms/step - loss: 3.1751e-04 - accuracy: 0.9999 - val_loss: 0.0028 - val_accuracy: 0.9997\n",
      "Epoch 329/530\n",
      "531/531 [==============================] - 1s 1ms/step - loss: 2.4767e-04 - accuracy: 0.9999 - val_loss: 0.0035 - val_accuracy: 0.9995\n",
      "Epoch 330/530\n",
      "531/531 [==============================] - 1s 1ms/step - loss: 4.2151e-04 - accuracy: 0.9999 - val_loss: 0.0020 - val_accuracy: 0.9997\n",
      "Epoch 331/530\n",
      "531/531 [==============================] - 1s 1ms/step - loss: 2.4759e-04 - accuracy: 0.9999 - val_loss: 0.0022 - val_accuracy: 0.9997\n",
      "Epoch 332/530\n",
      "531/531 [==============================] - 1s 1ms/step - loss: 0.0017 - accuracy: 0.9997 - val_loss: 0.0024 - val_accuracy: 0.9997\n",
      "Epoch 333/530\n",
      "531/531 [==============================] - 1s 1ms/step - loss: 6.9697e-04 - accuracy: 0.9999 - val_loss: 0.0021 - val_accuracy: 0.9998\n",
      "Epoch 334/530\n",
      "531/531 [==============================] - 1s 1ms/step - loss: 2.2800e-04 - accuracy: 1.0000 - val_loss: 0.0022 - val_accuracy: 0.9998\n",
      "Epoch 335/530\n"
     ]
    },
    {
     "name": "stdout",
     "output_type": "stream",
     "text": [
      "531/531 [==============================] - 1s 1ms/step - loss: 9.2462e-04 - accuracy: 0.9998 - val_loss: 0.0022 - val_accuracy: 0.9997\n",
      "Epoch 336/530\n",
      "531/531 [==============================] - 1s 1ms/step - loss: 2.3807e-04 - accuracy: 1.0000 - val_loss: 0.0024 - val_accuracy: 0.9997\n",
      "Epoch 337/530\n",
      "531/531 [==============================] - 1s 1ms/step - loss: 1.9027e-04 - accuracy: 1.0000 - val_loss: 0.0022 - val_accuracy: 0.9998\n",
      "Epoch 338/530\n",
      "531/531 [==============================] - 1s 1ms/step - loss: 0.0013 - accuracy: 0.9998 - val_loss: 0.0025 - val_accuracy: 0.9996\n",
      "Epoch 339/530\n",
      "531/531 [==============================] - 1s 1ms/step - loss: 4.9747e-04 - accuracy: 0.9999 - val_loss: 0.0034 - val_accuracy: 0.9996\n",
      "Epoch 340/530\n",
      "531/531 [==============================] - 1s 1ms/step - loss: 2.1066e-04 - accuracy: 1.0000 - val_loss: 0.0029 - val_accuracy: 0.9997\n",
      "Epoch 341/530\n",
      "531/531 [==============================] - 1s 1ms/step - loss: 1.7282e-04 - accuracy: 1.0000 - val_loss: 0.0034 - val_accuracy: 0.9997\n",
      "Epoch 342/530\n",
      "531/531 [==============================] - 1s 1ms/step - loss: 2.7145e-04 - accuracy: 0.9999 - val_loss: 0.0043 - val_accuracy: 0.9997\n",
      "Epoch 343/530\n",
      "531/531 [==============================] - 1s 1ms/step - loss: 7.1927e-04 - accuracy: 0.9999 - val_loss: 0.0031 - val_accuracy: 0.9997\n",
      "Epoch 344/530\n",
      "531/531 [==============================] - 1s 1ms/step - loss: 5.1245e-04 - accuracy: 0.9999 - val_loss: 0.0035 - val_accuracy: 0.9995\n",
      "Epoch 345/530\n",
      "531/531 [==============================] - 1s 1ms/step - loss: 0.0012 - accuracy: 0.9999 - val_loss: 0.0029 - val_accuracy: 0.9996\n",
      "Epoch 346/530\n",
      "531/531 [==============================] - 1s 1ms/step - loss: 8.7812e-04 - accuracy: 0.9998 - val_loss: 0.0032 - val_accuracy: 0.9995\n",
      "Epoch 347/530\n",
      "531/531 [==============================] - 1s 1ms/step - loss: 4.1726e-04 - accuracy: 0.9999 - val_loss: 0.0032 - val_accuracy: 0.9995\n",
      "Epoch 348/530\n",
      "531/531 [==============================] - 1s 1ms/step - loss: 3.2575e-04 - accuracy: 0.9999 - val_loss: 0.0024 - val_accuracy: 0.9997\n",
      "Epoch 349/530\n",
      "531/531 [==============================] - 1s 1ms/step - loss: 8.9891e-04 - accuracy: 0.9998 - val_loss: 0.0029 - val_accuracy: 0.9996\n",
      "Epoch 350/530\n",
      "531/531 [==============================] - 1s 1ms/step - loss: 4.8712e-04 - accuracy: 0.9999 - val_loss: 0.0032 - val_accuracy: 0.9996\n",
      "Epoch 351/530\n",
      "531/531 [==============================] - 1s 1ms/step - loss: 3.6583e-04 - accuracy: 0.9999 - val_loss: 0.0025 - val_accuracy: 0.9997\n",
      "Epoch 352/530\n",
      "531/531 [==============================] - 1s 1ms/step - loss: 2.1592e-04 - accuracy: 1.0000 - val_loss: 0.0030 - val_accuracy: 0.9996\n",
      "Epoch 353/530\n",
      "531/531 [==============================] - 1s 1ms/step - loss: 7.0586e-04 - accuracy: 0.9999 - val_loss: 0.0033 - val_accuracy: 0.9996\n",
      "Epoch 354/530\n",
      "531/531 [==============================] - 1s 1ms/step - loss: 5.6376e-04 - accuracy: 0.9999 - val_loss: 0.0031 - val_accuracy: 0.9997\n",
      "Epoch 355/530\n",
      "531/531 [==============================] - 1s 1ms/step - loss: 2.7384e-04 - accuracy: 0.9999 - val_loss: 0.0032 - val_accuracy: 0.9997\n",
      "Epoch 356/530\n",
      "531/531 [==============================] - 1s 1ms/step - loss: 0.0011 - accuracy: 0.9998 - val_loss: 0.0028 - val_accuracy: 0.9996\n",
      "Epoch 357/530\n",
      "531/531 [==============================] - 1s 1ms/step - loss: 3.3195e-04 - accuracy: 0.9999 - val_loss: 0.0032 - val_accuracy: 0.9996\n",
      "Epoch 358/530\n",
      "531/531 [==============================] - 1s 1ms/step - loss: 2.8681e-04 - accuracy: 1.0000 - val_loss: 0.0027 - val_accuracy: 0.9997\n",
      "Epoch 359/530\n",
      "531/531 [==============================] - 1s 1ms/step - loss: 5.2667e-04 - accuracy: 0.9999 - val_loss: 0.0039 - val_accuracy: 0.9996\n",
      "Epoch 360/530\n",
      "531/531 [==============================] - 1s 1ms/step - loss: 3.6638e-04 - accuracy: 0.9999 - val_loss: 0.0026 - val_accuracy: 0.9997\n",
      "Epoch 361/530\n",
      "531/531 [==============================] - 1s 1ms/step - loss: 3.2734e-04 - accuracy: 0.9999 - val_loss: 0.0048 - val_accuracy: 0.9994\n",
      "Epoch 362/530\n",
      "531/531 [==============================] - 1s 1ms/step - loss: 8.5374e-04 - accuracy: 0.9998 - val_loss: 0.0025 - val_accuracy: 0.9997\n",
      "Epoch 363/530\n",
      "531/531 [==============================] - 1s 1ms/step - loss: 3.3022e-04 - accuracy: 0.9999 - val_loss: 0.0024 - val_accuracy: 0.9997\n",
      "Epoch 364/530\n",
      "531/531 [==============================] - 1s 1ms/step - loss: 4.2183e-04 - accuracy: 0.9999 - val_loss: 0.0039 - val_accuracy: 0.9995\n",
      "Epoch 365/530\n",
      "531/531 [==============================] - 1s 1ms/step - loss: 0.0015 - accuracy: 0.9997 - val_loss: 0.0021 - val_accuracy: 0.9997\n",
      "Epoch 366/530\n",
      "531/531 [==============================] - 1s 1ms/step - loss: 3.4173e-04 - accuracy: 0.9999 - val_loss: 0.0027 - val_accuracy: 0.9997\n",
      "Epoch 367/530\n",
      "531/531 [==============================] - 1s 1ms/step - loss: 3.0592e-04 - accuracy: 0.9999 - val_loss: 0.0025 - val_accuracy: 0.9997\n",
      "Epoch 368/530\n",
      "531/531 [==============================] - 1s 1ms/step - loss: 5.3218e-04 - accuracy: 0.9999 - val_loss: 0.0032 - val_accuracy: 0.9996\n",
      "Epoch 369/530\n",
      "531/531 [==============================] - 1s 1ms/step - loss: 3.6112e-04 - accuracy: 0.9999 - val_loss: 0.0028 - val_accuracy: 0.9997\n",
      "Epoch 370/530\n",
      "531/531 [==============================] - 1s 1ms/step - loss: 3.0784e-04 - accuracy: 0.9999 - val_loss: 0.0029 - val_accuracy: 0.9997\n",
      "Epoch 371/530\n",
      "531/531 [==============================] - 1s 1ms/step - loss: 4.2249e-04 - accuracy: 0.9999 - val_loss: 0.0024 - val_accuracy: 0.9997\n",
      "Epoch 372/530\n",
      "531/531 [==============================] - 1s 1ms/step - loss: 1.6466e-04 - accuracy: 1.0000 - val_loss: 0.0024 - val_accuracy: 0.9997\n",
      "Epoch 373/530\n",
      "531/531 [==============================] - 1s 1ms/step - loss: 2.7771e-04 - accuracy: 0.9999 - val_loss: 0.0026 - val_accuracy: 0.9997\n",
      "Epoch 374/530\n",
      "531/531 [==============================] - 1s 1ms/step - loss: 2.6378e-04 - accuracy: 0.9999 - val_loss: 0.0029 - val_accuracy: 0.9996\n",
      "Epoch 375/530\n",
      "531/531 [==============================] - 1s 1ms/step - loss: 7.9174e-04 - accuracy: 0.9998 - val_loss: 0.0028 - val_accuracy: 0.9996\n",
      "Epoch 376/530\n",
      "531/531 [==============================] - 1s 1ms/step - loss: 2.6973e-04 - accuracy: 0.9999 - val_loss: 0.0031 - val_accuracy: 0.9996\n",
      "Epoch 377/530\n",
      "531/531 [==============================] - 1s 1ms/step - loss: 1.9012e-04 - accuracy: 1.0000 - val_loss: 0.0034 - val_accuracy: 0.9996\n",
      "Epoch 378/530\n",
      "531/531 [==============================] - 1s 1ms/step - loss: 6.7854e-04 - accuracy: 0.9999 - val_loss: 0.0044 - val_accuracy: 0.9994\n",
      "Epoch 379/530\n",
      "531/531 [==============================] - 1s 1ms/step - loss: 2.6684e-04 - accuracy: 0.9999 - val_loss: 0.0027 - val_accuracy: 0.9997\n",
      "Epoch 380/530\n",
      "531/531 [==============================] - 1s 1ms/step - loss: 1.7347e-04 - accuracy: 1.0000 - val_loss: 0.0026 - val_accuracy: 0.9997\n",
      "Epoch 381/530\n",
      "531/531 [==============================] - 1s 1ms/step - loss: 1.4735e-04 - accuracy: 1.0000 - val_loss: 0.0031 - val_accuracy: 0.9996\n",
      "Epoch 382/530\n",
      "531/531 [==============================] - 1s 1ms/step - loss: 1.6879e-04 - accuracy: 1.0000 - val_loss: 0.0025 - val_accuracy: 0.9997\n",
      "Epoch 383/530\n",
      "531/531 [==============================] - 1s 1ms/step - loss: 0.0011 - accuracy: 0.9998 - val_loss: 0.0050 - val_accuracy: 0.9994\n",
      "Epoch 384/530\n",
      "531/531 [==============================] - 1s 1ms/step - loss: 8.4660e-04 - accuracy: 0.9999 - val_loss: 0.0029 - val_accuracy: 0.9997\n",
      "Epoch 385/530\n",
      "531/531 [==============================] - 1s 1ms/step - loss: 4.4182e-04 - accuracy: 0.9999 - val_loss: 0.0028 - val_accuracy: 0.9997\n",
      "Epoch 386/530\n",
      "531/531 [==============================] - 1s 1ms/step - loss: 2.8029e-04 - accuracy: 1.0000 - val_loss: 0.0031 - val_accuracy: 0.9996\n",
      "Epoch 387/530\n",
      "531/531 [==============================] - 1s 1ms/step - loss: 4.2528e-04 - accuracy: 0.9999 - val_loss: 0.0029 - val_accuracy: 0.9996\n",
      "Epoch 388/530\n",
      "531/531 [==============================] - 1s 1ms/step - loss: 3.3501e-04 - accuracy: 0.9999 - val_loss: 0.0025 - val_accuracy: 0.9997\n",
      "Epoch 389/530\n",
      "531/531 [==============================] - 1s 1ms/step - loss: 4.8354e-04 - accuracy: 0.9999 - val_loss: 0.0029 - val_accuracy: 0.9996\n",
      "Epoch 390/530\n"
     ]
    },
    {
     "name": "stdout",
     "output_type": "stream",
     "text": [
      "531/531 [==============================] - 1s 1ms/step - loss: 4.0588e-04 - accuracy: 0.9999 - val_loss: 0.0027 - val_accuracy: 0.9997\n",
      "Epoch 391/530\n",
      "531/531 [==============================] - 1s 1ms/step - loss: 2.5412e-04 - accuracy: 1.0000 - val_loss: 0.0026 - val_accuracy: 0.9997\n",
      "Epoch 392/530\n",
      "531/531 [==============================] - 1s 1ms/step - loss: 7.2120e-04 - accuracy: 0.9998 - val_loss: 0.0031 - val_accuracy: 0.9996\n",
      "Epoch 393/530\n",
      "531/531 [==============================] - 1s 1ms/step - loss: 4.4925e-04 - accuracy: 0.9999 - val_loss: 0.0027 - val_accuracy: 0.9996\n",
      "Epoch 394/530\n",
      "531/531 [==============================] - 1s 1ms/step - loss: 2.8520e-04 - accuracy: 0.9999 - val_loss: 0.0028 - val_accuracy: 0.9997\n",
      "Epoch 395/530\n",
      "531/531 [==============================] - 1s 1ms/step - loss: 1.5381e-04 - accuracy: 1.0000 - val_loss: 0.0031 - val_accuracy: 0.9996\n",
      "Epoch 396/530\n",
      "531/531 [==============================] - 1s 1ms/step - loss: 1.7944e-04 - accuracy: 1.0000 - val_loss: 0.0024 - val_accuracy: 0.9997\n",
      "Epoch 397/530\n",
      "531/531 [==============================] - 1s 1ms/step - loss: 5.3798e-04 - accuracy: 0.9999 - val_loss: 0.0028 - val_accuracy: 0.9997\n",
      "Epoch 398/530\n",
      "531/531 [==============================] - 1s 1ms/step - loss: 2.4001e-04 - accuracy: 1.0000 - val_loss: 0.0028 - val_accuracy: 0.9997\n",
      "Epoch 399/530\n",
      "531/531 [==============================] - 1s 1ms/step - loss: 0.0013 - accuracy: 0.9997 - val_loss: 0.0035 - val_accuracy: 0.9995\n",
      "Epoch 400/530\n",
      "531/531 [==============================] - 1s 1ms/step - loss: 4.0587e-04 - accuracy: 0.9999 - val_loss: 0.0025 - val_accuracy: 0.9997\n",
      "Epoch 401/530\n",
      "531/531 [==============================] - 1s 1ms/step - loss: 7.6797e-04 - accuracy: 0.9999 - val_loss: 0.0034 - val_accuracy: 0.9996\n",
      "Epoch 402/530\n",
      "531/531 [==============================] - 1s 1ms/step - loss: 2.1451e-04 - accuracy: 1.0000 - val_loss: 0.0029 - val_accuracy: 0.9996\n",
      "Epoch 403/530\n",
      "531/531 [==============================] - 1s 1ms/step - loss: 1.3103e-04 - accuracy: 1.0000 - val_loss: 0.0030 - val_accuracy: 0.9996\n",
      "Epoch 404/530\n",
      "531/531 [==============================] - 1s 1ms/step - loss: 3.7969e-04 - accuracy: 0.9999 - val_loss: 0.0038 - val_accuracy: 0.9994\n",
      "Epoch 405/530\n",
      "531/531 [==============================] - 1s 1ms/step - loss: 7.1509e-04 - accuracy: 0.9999 - val_loss: 0.0034 - val_accuracy: 0.9996\n",
      "Epoch 406/530\n",
      "531/531 [==============================] - 1s 1ms/step - loss: 2.3259e-04 - accuracy: 1.0000 - val_loss: 0.0030 - val_accuracy: 0.9997\n",
      "Epoch 407/530\n",
      "531/531 [==============================] - 1s 1ms/step - loss: 6.8770e-04 - accuracy: 0.9999 - val_loss: 0.0024 - val_accuracy: 0.9997\n",
      "Epoch 408/530\n",
      "531/531 [==============================] - 1s 1ms/step - loss: 4.3304e-04 - accuracy: 0.9999 - val_loss: 0.0027 - val_accuracy: 0.9997\n",
      "Epoch 409/530\n",
      "531/531 [==============================] - 1s 1ms/step - loss: 8.3146e-04 - accuracy: 0.9998 - val_loss: 0.0026 - val_accuracy: 0.9997\n",
      "Epoch 410/530\n",
      "531/531 [==============================] - 1s 1ms/step - loss: 5.5012e-04 - accuracy: 0.9999 - val_loss: 0.0027 - val_accuracy: 0.9997\n",
      "Epoch 411/530\n",
      "531/531 [==============================] - 1s 1ms/step - loss: 4.4667e-04 - accuracy: 0.9999 - val_loss: 0.0024 - val_accuracy: 0.9997\n",
      "Epoch 412/530\n",
      "531/531 [==============================] - 1s 1ms/step - loss: 1.6117e-04 - accuracy: 1.0000 - val_loss: 0.0028 - val_accuracy: 0.9997\n",
      "Epoch 413/530\n",
      "531/531 [==============================] - 1s 1ms/step - loss: 1.8434e-04 - accuracy: 1.0000 - val_loss: 0.0034 - val_accuracy: 0.9996\n",
      "Epoch 414/530\n",
      "531/531 [==============================] - 1s 1ms/step - loss: 3.4049e-04 - accuracy: 0.9999 - val_loss: 0.0029 - val_accuracy: 0.9997\n",
      "Epoch 415/530\n",
      "531/531 [==============================] - 1s 1ms/step - loss: 7.0230e-04 - accuracy: 0.9999 - val_loss: 0.0021 - val_accuracy: 0.9998\n",
      "Epoch 416/530\n",
      "531/531 [==============================] - 1s 1ms/step - loss: 3.5450e-04 - accuracy: 0.9999 - val_loss: 0.0033 - val_accuracy: 0.9996\n",
      "Epoch 417/530\n",
      "531/531 [==============================] - 1s 1ms/step - loss: 3.6030e-04 - accuracy: 0.9999 - val_loss: 0.0026 - val_accuracy: 0.9997\n",
      "Epoch 418/530\n",
      "531/531 [==============================] - 1s 1ms/step - loss: 2.2123e-04 - accuracy: 1.0000 - val_loss: 0.0034 - val_accuracy: 0.9996\n",
      "Epoch 419/530\n",
      "531/531 [==============================] - 1s 1ms/step - loss: 7.7339e-04 - accuracy: 0.9998 - val_loss: 0.0091 - val_accuracy: 0.9986\n",
      "Epoch 420/530\n",
      "531/531 [==============================] - 1s 1ms/step - loss: 4.5520e-04 - accuracy: 0.9999 - val_loss: 0.0034 - val_accuracy: 0.9996\n",
      "Epoch 421/530\n",
      "531/531 [==============================] - 1s 1ms/step - loss: 2.1680e-04 - accuracy: 1.0000 - val_loss: 0.0029 - val_accuracy: 0.9997\n",
      "Epoch 422/530\n",
      "531/531 [==============================] - 1s 1ms/step - loss: 6.0331e-04 - accuracy: 0.9999 - val_loss: 0.0033 - val_accuracy: 0.9996\n",
      "Epoch 423/530\n",
      "531/531 [==============================] - 1s 1ms/step - loss: 5.1197e-04 - accuracy: 0.9999 - val_loss: 0.0032 - val_accuracy: 0.9996\n",
      "Epoch 424/530\n",
      "531/531 [==============================] - 1s 1ms/step - loss: 2.2476e-04 - accuracy: 1.0000 - val_loss: 0.0039 - val_accuracy: 0.9996\n",
      "Epoch 425/530\n",
      "531/531 [==============================] - 1s 1ms/step - loss: 1.9609e-04 - accuracy: 1.0000 - val_loss: 0.0029 - val_accuracy: 0.9997\n",
      "Epoch 426/530\n",
      "531/531 [==============================] - 1s 1ms/step - loss: 1.8635e-04 - accuracy: 1.0000 - val_loss: 0.0035 - val_accuracy: 0.9996\n",
      "Epoch 427/530\n",
      "531/531 [==============================] - 1s 1ms/step - loss: 1.9383e-04 - accuracy: 1.0000 - val_loss: 0.0040 - val_accuracy: 0.9995\n",
      "Epoch 428/530\n",
      "531/531 [==============================] - 1s 1ms/step - loss: 9.8043e-04 - accuracy: 0.9998 - val_loss: 0.0033 - val_accuracy: 0.9996\n",
      "Epoch 429/530\n",
      "531/531 [==============================] - 1s 1ms/step - loss: 4.3351e-04 - accuracy: 0.9999 - val_loss: 0.0024 - val_accuracy: 0.9997\n",
      "Epoch 430/530\n",
      "531/531 [==============================] - 1s 1ms/step - loss: 5.1048e-04 - accuracy: 0.9999 - val_loss: 0.0034 - val_accuracy: 0.9995\n",
      "Epoch 431/530\n",
      "531/531 [==============================] - 1s 1ms/step - loss: 1.8073e-04 - accuracy: 1.0000 - val_loss: 0.0025 - val_accuracy: 0.9997\n",
      "Epoch 432/530\n",
      "531/531 [==============================] - 1s 1ms/step - loss: 8.7967e-04 - accuracy: 0.9998 - val_loss: 0.0025 - val_accuracy: 0.9997\n",
      "Epoch 433/530\n",
      "531/531 [==============================] - 1s 1ms/step - loss: 4.2848e-04 - accuracy: 0.9999 - val_loss: 0.0034 - val_accuracy: 0.9996\n",
      "Epoch 434/530\n",
      "531/531 [==============================] - 1s 1ms/step - loss: 3.6126e-04 - accuracy: 0.9999 - val_loss: 0.0036 - val_accuracy: 0.9996\n",
      "Epoch 435/530\n",
      "531/531 [==============================] - 1s 1ms/step - loss: 0.0012 - accuracy: 0.9998 - val_loss: 0.0025 - val_accuracy: 0.9997\n",
      "Epoch 436/530\n",
      "531/531 [==============================] - 1s 1ms/step - loss: 2.4629e-04 - accuracy: 0.9999 - val_loss: 0.0028 - val_accuracy: 0.9997\n",
      "Epoch 437/530\n",
      "531/531 [==============================] - 1s 1ms/step - loss: 3.1779e-04 - accuracy: 0.9999 - val_loss: 0.0031 - val_accuracy: 0.9996\n",
      "Epoch 438/530\n",
      "531/531 [==============================] - 1s 1ms/step - loss: 7.1524e-04 - accuracy: 0.9999 - val_loss: 0.0024 - val_accuracy: 0.9997\n",
      "Epoch 439/530\n",
      "531/531 [==============================] - 1s 1ms/step - loss: 4.1215e-04 - accuracy: 0.9999 - val_loss: 0.0024 - val_accuracy: 0.9997\n",
      "Epoch 440/530\n",
      "531/531 [==============================] - 1s 1ms/step - loss: 2.7845e-04 - accuracy: 0.9999 - val_loss: 0.0037 - val_accuracy: 0.9995\n",
      "Epoch 441/530\n",
      "531/531 [==============================] - 1s 1ms/step - loss: 8.4911e-04 - accuracy: 0.9998 - val_loss: 0.0034 - val_accuracy: 0.9996\n",
      "Epoch 442/530\n",
      "531/531 [==============================] - 1s 1ms/step - loss: 4.5587e-04 - accuracy: 0.9999 - val_loss: 0.0035 - val_accuracy: 0.9996\n",
      "Epoch 443/530\n",
      "531/531 [==============================] - 1s 1ms/step - loss: 2.1958e-04 - accuracy: 1.0000 - val_loss: 0.0042 - val_accuracy: 0.9995\n",
      "Epoch 444/530\n",
      "531/531 [==============================] - 1s 1ms/step - loss: 3.2334e-04 - accuracy: 0.9999 - val_loss: 0.0034 - val_accuracy: 0.9996\n",
      "Epoch 445/530\n"
     ]
    },
    {
     "name": "stdout",
     "output_type": "stream",
     "text": [
      "531/531 [==============================] - 1s 1ms/step - loss: 1.9119e-04 - accuracy: 1.0000 - val_loss: 0.0032 - val_accuracy: 0.9996\n",
      "Epoch 446/530\n",
      "531/531 [==============================] - 1s 1ms/step - loss: 4.9797e-04 - accuracy: 0.9999 - val_loss: 0.0025 - val_accuracy: 0.9997\n",
      "Epoch 447/530\n",
      "531/531 [==============================] - 1s 1ms/step - loss: 1.6515e-04 - accuracy: 1.0000 - val_loss: 0.0036 - val_accuracy: 0.9996\n",
      "Epoch 448/530\n",
      "531/531 [==============================] - 1s 1ms/step - loss: 8.3657e-04 - accuracy: 0.9998 - val_loss: 0.0025 - val_accuracy: 0.9997\n",
      "Epoch 449/530\n",
      "531/531 [==============================] - 1s 1ms/step - loss: 1.2948e-04 - accuracy: 1.0000 - val_loss: 0.0030 - val_accuracy: 0.9996\n",
      "Epoch 450/530\n",
      "531/531 [==============================] - 1s 1ms/step - loss: 1.4074e-04 - accuracy: 1.0000 - val_loss: 0.0031 - val_accuracy: 0.9996\n",
      "Epoch 451/530\n",
      "531/531 [==============================] - 1s 1ms/step - loss: 0.0011 - accuracy: 0.9998 - val_loss: 0.0036 - val_accuracy: 0.9994\n",
      "Epoch 452/530\n",
      "531/531 [==============================] - 1s 1ms/step - loss: 4.6162e-04 - accuracy: 0.9999 - val_loss: 0.0029 - val_accuracy: 0.9997\n",
      "Epoch 453/530\n",
      "531/531 [==============================] - 1s 1ms/step - loss: 2.2287e-04 - accuracy: 1.0000 - val_loss: 0.0028 - val_accuracy: 0.9997\n",
      "Epoch 454/530\n",
      "531/531 [==============================] - 1s 2ms/step - loss: 1.7288e-04 - accuracy: 1.0000 - val_loss: 0.0030 - val_accuracy: 0.9996\n",
      "Epoch 455/530\n",
      "531/531 [==============================] - 1s 1ms/step - loss: 5.8212e-04 - accuracy: 0.9999 - val_loss: 0.0032 - val_accuracy: 0.9995\n",
      "Epoch 456/530\n",
      "531/531 [==============================] - 1s 1ms/step - loss: 3.2091e-04 - accuracy: 0.9999 - val_loss: 0.0033 - val_accuracy: 0.9996\n",
      "Epoch 457/530\n",
      "531/531 [==============================] - 1s 1ms/step - loss: 3.6288e-04 - accuracy: 0.9999 - val_loss: 0.0055 - val_accuracy: 0.9993\n",
      "Epoch 458/530\n",
      "531/531 [==============================] - 1s 1ms/step - loss: 1.9732e-04 - accuracy: 1.0000 - val_loss: 0.0032 - val_accuracy: 0.9997\n",
      "Epoch 459/530\n",
      "531/531 [==============================] - 1s 1ms/step - loss: 3.9389e-04 - accuracy: 0.9999 - val_loss: 0.0033 - val_accuracy: 0.9996\n",
      "Epoch 460/530\n",
      "531/531 [==============================] - 1s 1ms/step - loss: 2.9254e-04 - accuracy: 0.9999 - val_loss: 0.0029 - val_accuracy: 0.9997\n",
      "Epoch 461/530\n",
      "531/531 [==============================] - 1s 2ms/step - loss: 1.6350e-04 - accuracy: 1.0000 - val_loss: 0.0039 - val_accuracy: 0.9996\n",
      "Epoch 462/530\n",
      "531/531 [==============================] - 2s 4ms/step - loss: 3.9292e-04 - accuracy: 0.9999 - val_loss: 0.0034 - val_accuracy: 0.9996\n",
      "Epoch 463/530\n",
      "531/531 [==============================] - 1s 3ms/step - loss: 6.0316e-04 - accuracy: 0.9999 - val_loss: 0.0041 - val_accuracy: 0.9995\n",
      "Epoch 464/530\n",
      "531/531 [==============================] - 1s 1ms/step - loss: 2.2665e-04 - accuracy: 1.0000 - val_loss: 0.0037 - val_accuracy: 0.9996\n",
      "Epoch 465/530\n",
      "531/531 [==============================] - 1s 1ms/step - loss: 2.1114e-04 - accuracy: 1.0000 - val_loss: 0.0054 - val_accuracy: 0.9996\n",
      "Epoch 466/530\n",
      "531/531 [==============================] - 1s 1ms/step - loss: 1.5504e-04 - accuracy: 1.0000 - val_loss: 0.0060 - val_accuracy: 0.9995\n",
      "Epoch 467/530\n",
      "531/531 [==============================] - 1s 1ms/step - loss: 4.9575e-04 - accuracy: 0.9999 - val_loss: 0.0027 - val_accuracy: 0.9997\n",
      "Epoch 468/530\n",
      "531/531 [==============================] - 1s 1ms/step - loss: 1.8517e-04 - accuracy: 1.0000 - val_loss: 0.0027 - val_accuracy: 0.9997\n",
      "Epoch 469/530\n",
      "531/531 [==============================] - 1s 1ms/step - loss: 1.4991e-04 - accuracy: 1.0000 - val_loss: 0.0079 - val_accuracy: 0.9980\n",
      "Epoch 470/530\n",
      "531/531 [==============================] - 1s 1ms/step - loss: 9.9056e-04 - accuracy: 0.9998 - val_loss: 0.0040 - val_accuracy: 0.9995\n",
      "Epoch 471/530\n",
      "531/531 [==============================] - 1s 2ms/step - loss: 6.0392e-04 - accuracy: 0.9999 - val_loss: 0.0034 - val_accuracy: 0.9996\n",
      "Epoch 472/530\n",
      "531/531 [==============================] - 1s 1ms/step - loss: 2.4800e-04 - accuracy: 1.0000 - val_loss: 0.0040 - val_accuracy: 0.9995\n",
      "Epoch 473/530\n",
      "531/531 [==============================] - 1s 2ms/step - loss: 1.9387e-04 - accuracy: 1.0000 - val_loss: 0.0028 - val_accuracy: 0.9997\n",
      "Epoch 474/530\n",
      "531/531 [==============================] - 1s 1ms/step - loss: 5.4837e-04 - accuracy: 0.9999 - val_loss: 0.0028 - val_accuracy: 0.9997\n",
      "Epoch 475/530\n",
      "531/531 [==============================] - 1s 1ms/step - loss: 2.2617e-04 - accuracy: 1.0000 - val_loss: 0.0032 - val_accuracy: 0.9996\n",
      "Epoch 476/530\n",
      "531/531 [==============================] - 1s 1ms/step - loss: 1.8136e-04 - accuracy: 1.0000 - val_loss: 0.0031 - val_accuracy: 0.9997\n",
      "Epoch 477/530\n",
      "531/531 [==============================] - 1s 1ms/step - loss: 2.1485e-04 - accuracy: 1.0000 - val_loss: 0.0036 - val_accuracy: 0.9996\n",
      "Epoch 478/530\n",
      "531/531 [==============================] - 1s 1ms/step - loss: 3.4305e-04 - accuracy: 0.9999 - val_loss: 0.0044 - val_accuracy: 0.9994\n",
      "Epoch 479/530\n",
      "531/531 [==============================] - 1s 1ms/step - loss: 4.0769e-04 - accuracy: 0.9999 - val_loss: 0.0042 - val_accuracy: 0.9995\n",
      "Epoch 480/530\n",
      "531/531 [==============================] - 1s 1ms/step - loss: 1.6005e-04 - accuracy: 1.0000 - val_loss: 0.0034 - val_accuracy: 0.9996\n",
      "Epoch 481/530\n",
      "531/531 [==============================] - 1s 1ms/step - loss: 1.6013e-04 - accuracy: 1.0000 - val_loss: 0.0033 - val_accuracy: 0.9997\n",
      "Epoch 482/530\n",
      "531/531 [==============================] - 1s 1ms/step - loss: 4.1997e-04 - accuracy: 0.9999 - val_loss: 0.0048 - val_accuracy: 0.9993\n",
      "Epoch 483/530\n",
      "531/531 [==============================] - 1s 1ms/step - loss: 3.9961e-04 - accuracy: 0.9999 - val_loss: 0.0035 - val_accuracy: 0.9996\n",
      "Epoch 484/530\n",
      "531/531 [==============================] - 1s 1ms/step - loss: 4.1548e-04 - accuracy: 0.9999 - val_loss: 0.0036 - val_accuracy: 0.9995\n",
      "Epoch 485/530\n",
      "531/531 [==============================] - 1s 1ms/step - loss: 4.7315e-04 - accuracy: 0.9999 - val_loss: 0.0032 - val_accuracy: 0.9996\n",
      "Epoch 486/530\n",
      "531/531 [==============================] - 1s 2ms/step - loss: 2.2502e-04 - accuracy: 1.0000 - val_loss: 0.0030 - val_accuracy: 0.9997\n",
      "Epoch 487/530\n",
      "531/531 [==============================] - 1s 1ms/step - loss: 2.9550e-04 - accuracy: 1.0000 - val_loss: 0.0032 - val_accuracy: 0.9996\n",
      "Epoch 488/530\n",
      "531/531 [==============================] - 1s 2ms/step - loss: 4.0509e-04 - accuracy: 0.9999 - val_loss: 0.0044 - val_accuracy: 0.9995\n",
      "Epoch 489/530\n",
      "531/531 [==============================] - 1s 1ms/step - loss: 7.0602e-04 - accuracy: 0.9999 - val_loss: 0.0035 - val_accuracy: 0.9996\n",
      "Epoch 490/530\n",
      "531/531 [==============================] - 1s 1ms/step - loss: 6.4289e-04 - accuracy: 0.9999 - val_loss: 0.0031 - val_accuracy: 0.9996\n",
      "Epoch 491/530\n",
      "531/531 [==============================] - 1s 1ms/step - loss: 2.5270e-04 - accuracy: 1.0000 - val_loss: 0.0034 - val_accuracy: 0.9996\n",
      "Epoch 492/530\n",
      "531/531 [==============================] - 1s 2ms/step - loss: 2.2450e-04 - accuracy: 1.0000 - val_loss: 0.0033 - val_accuracy: 0.9996\n",
      "Epoch 493/530\n",
      "531/531 [==============================] - 1s 1ms/step - loss: 1.3535e-04 - accuracy: 1.0000 - val_loss: 0.0033 - val_accuracy: 0.9996\n",
      "Epoch 494/530\n",
      "531/531 [==============================] - 1s 1ms/step - loss: 0.0010 - accuracy: 0.9998 - val_loss: 0.0033 - val_accuracy: 0.9996\n",
      "Epoch 495/530\n",
      "531/531 [==============================] - 1s 1ms/step - loss: 2.5792e-04 - accuracy: 0.9999 - val_loss: 0.0034 - val_accuracy: 0.9996\n",
      "Epoch 496/530\n",
      "531/531 [==============================] - 1s 1ms/step - loss: 1.6184e-04 - accuracy: 1.0000 - val_loss: 0.0029 - val_accuracy: 0.9997\n",
      "Epoch 497/530\n",
      "531/531 [==============================] - 1s 1ms/step - loss: 3.5032e-04 - accuracy: 0.9999 - val_loss: 0.0028 - val_accuracy: 0.9996\n",
      "Epoch 498/530\n",
      "531/531 [==============================] - 1s 1ms/step - loss: 5.6158e-04 - accuracy: 0.9999 - val_loss: 0.0026 - val_accuracy: 0.9997\n",
      "Epoch 499/530\n",
      "531/531 [==============================] - 1s 1ms/step - loss: 2.5070e-04 - accuracy: 1.0000 - val_loss: 0.0029 - val_accuracy: 0.9997\n",
      "Epoch 500/530\n"
     ]
    },
    {
     "name": "stdout",
     "output_type": "stream",
     "text": [
      "531/531 [==============================] - 1s 1ms/step - loss: 1.7434e-04 - accuracy: 1.0000 - val_loss: 0.0030 - val_accuracy: 0.9997\n",
      "Epoch 501/530\n",
      "531/531 [==============================] - 1s 1ms/step - loss: 1.7698e-04 - accuracy: 1.0000 - val_loss: 0.0039 - val_accuracy: 0.9996\n",
      "Epoch 502/530\n",
      "531/531 [==============================] - 1s 1ms/step - loss: 0.0018 - accuracy: 0.9997 - val_loss: 0.0030 - val_accuracy: 0.9996\n",
      "Epoch 503/530\n",
      "531/531 [==============================] - 1s 1ms/step - loss: 4.1323e-04 - accuracy: 0.9999 - val_loss: 0.0023 - val_accuracy: 0.9997\n",
      "Epoch 504/530\n",
      "531/531 [==============================] - 1s 1ms/step - loss: 1.7580e-04 - accuracy: 1.0000 - val_loss: 0.0030 - val_accuracy: 0.9996\n",
      "Epoch 505/530\n",
      "531/531 [==============================] - 1s 1ms/step - loss: 1.6634e-04 - accuracy: 1.0000 - val_loss: 0.0030 - val_accuracy: 0.9996\n",
      "Epoch 506/530\n",
      "531/531 [==============================] - 1s 1ms/step - loss: 3.9138e-04 - accuracy: 0.9999 - val_loss: 0.0042 - val_accuracy: 0.9994\n",
      "Epoch 507/530\n",
      "531/531 [==============================] - 1s 1ms/step - loss: 5.8093e-04 - accuracy: 0.9999 - val_loss: 0.0029 - val_accuracy: 0.9996\n",
      "Epoch 508/530\n",
      "531/531 [==============================] - 1s 1ms/step - loss: 2.1947e-04 - accuracy: 1.0000 - val_loss: 0.0028 - val_accuracy: 0.9997\n",
      "Epoch 509/530\n",
      "531/531 [==============================] - 1s 1ms/step - loss: 5.8409e-04 - accuracy: 0.9999 - val_loss: 0.0036 - val_accuracy: 0.9995\n",
      "Epoch 510/530\n",
      "531/531 [==============================] - 1s 1ms/step - loss: 3.7548e-04 - accuracy: 0.9999 - val_loss: 0.0033 - val_accuracy: 0.9997\n",
      "Epoch 511/530\n",
      "531/531 [==============================] - 1s 1ms/step - loss: 1.2774e-04 - accuracy: 1.0000 - val_loss: 0.0034 - val_accuracy: 0.9997\n",
      "Epoch 512/530\n",
      "531/531 [==============================] - 1s 2ms/step - loss: 1.1194e-04 - accuracy: 1.0000 - val_loss: 0.0036 - val_accuracy: 0.9997\n",
      "Epoch 513/530\n",
      "531/531 [==============================] - 1s 1ms/step - loss: 1.0993e-04 - accuracy: 1.0000 - val_loss: 0.0040 - val_accuracy: 0.9996\n",
      "Epoch 514/530\n",
      "531/531 [==============================] - 1s 1ms/step - loss: 4.6479e-04 - accuracy: 0.9999 - val_loss: 0.0043 - val_accuracy: 0.9994\n",
      "Epoch 515/530\n",
      "531/531 [==============================] - 1s 1ms/step - loss: 6.2274e-04 - accuracy: 0.9999 - val_loss: 0.0041 - val_accuracy: 0.9995\n",
      "Epoch 516/530\n",
      "531/531 [==============================] - 1s 1ms/step - loss: 7.1265e-04 - accuracy: 0.9999 - val_loss: 0.0026 - val_accuracy: 0.9996\n",
      "Epoch 517/530\n",
      "531/531 [==============================] - 1s 1ms/step - loss: 3.2326e-04 - accuracy: 0.9999 - val_loss: 0.0025 - val_accuracy: 0.9997\n",
      "Epoch 518/530\n",
      "531/531 [==============================] - 1s 1ms/step - loss: 1.8199e-04 - accuracy: 1.0000 - val_loss: 0.0030 - val_accuracy: 0.9997\n",
      "Epoch 519/530\n",
      "531/531 [==============================] - 1s 1ms/step - loss: 3.0986e-04 - accuracy: 0.9999 - val_loss: 0.0029 - val_accuracy: 0.9996\n",
      "Epoch 520/530\n",
      "531/531 [==============================] - 1s 1ms/step - loss: 8.8990e-04 - accuracy: 0.9998 - val_loss: 0.0044 - val_accuracy: 0.9995\n",
      "Epoch 521/530\n",
      "531/531 [==============================] - 1s 1ms/step - loss: 3.4991e-04 - accuracy: 0.9999 - val_loss: 0.0036 - val_accuracy: 0.9995\n",
      "Epoch 522/530\n",
      "531/531 [==============================] - 1s 1ms/step - loss: 2.1141e-04 - accuracy: 1.0000 - val_loss: 0.0036 - val_accuracy: 0.9996\n",
      "Epoch 523/530\n",
      "531/531 [==============================] - 1s 1ms/step - loss: 1.8685e-04 - accuracy: 1.0000 - val_loss: 0.0036 - val_accuracy: 0.9996\n",
      "Epoch 524/530\n",
      "531/531 [==============================] - 1s 1ms/step - loss: 2.4931e-04 - accuracy: 1.0000 - val_loss: 0.0036 - val_accuracy: 0.9996\n",
      "Epoch 525/530\n",
      "531/531 [==============================] - 1s 1ms/step - loss: 4.7069e-04 - accuracy: 0.9999 - val_loss: 0.0047 - val_accuracy: 0.9983\n",
      "Epoch 526/530\n",
      "531/531 [==============================] - 1s 1ms/step - loss: 8.1303e-04 - accuracy: 0.9998 - val_loss: 0.0034 - val_accuracy: 0.9996\n",
      "Epoch 527/530\n",
      "531/531 [==============================] - 1s 1ms/step - loss: 2.4618e-04 - accuracy: 0.9999 - val_loss: 0.0041 - val_accuracy: 0.9996\n",
      "Epoch 528/530\n",
      "531/531 [==============================] - 1s 1ms/step - loss: 3.4003e-04 - accuracy: 0.9999 - val_loss: 0.0035 - val_accuracy: 0.9996\n",
      "Epoch 529/530\n",
      "531/531 [==============================] - 1s 2ms/step - loss: 3.1370e-04 - accuracy: 0.9999 - val_loss: 0.0065 - val_accuracy: 0.9980\n",
      "Epoch 530/530\n",
      "531/531 [==============================] - 1s 1ms/step - loss: 8.5685e-04 - accuracy: 0.9999 - val_loss: 0.0033 - val_accuracy: 0.9996\n"
     ]
    }
   ],
   "source": [
    "os_batch_size = 600\n",
    "os_epochs = 530\n",
    "os_history = os_DNN.fit(sc_xtr_os, ytr_os, batch_size=os_batch_size, epochs=os_epochs, validation_data=(sc_xte_os_v, ytr_os_v))"
   ]
  },
  {
   "cell_type": "code",
   "execution_count": 18,
   "id": "4b72b61f",
   "metadata": {},
   "outputs": [
    {
     "name": "stdout",
     "output_type": "stream",
     "text": [
      "Epoch 1/30\n",
      "109/109 [==============================] - 1s 2ms/step - loss: 0.6935 - accuracy: 0.5046 - val_loss: 0.6936 - val_accuracy: 0.4818\n",
      "Epoch 2/30\n",
      "109/109 [==============================] - 0s 1ms/step - loss: 0.6933 - accuracy: 0.5046 - val_loss: 0.6936 - val_accuracy: 0.4818\n",
      "Epoch 3/30\n",
      "109/109 [==============================] - 0s 1ms/step - loss: 0.6932 - accuracy: 0.5046 - val_loss: 0.6935 - val_accuracy: 0.4818\n",
      "Epoch 4/30\n",
      "109/109 [==============================] - 0s 1ms/step - loss: 0.6932 - accuracy: 0.5046 - val_loss: 0.6936 - val_accuracy: 0.4818\n",
      "Epoch 5/30\n",
      "109/109 [==============================] - 0s 1ms/step - loss: 0.6932 - accuracy: 0.5046 - val_loss: 0.6936 - val_accuracy: 0.4818\n",
      "Epoch 6/30\n",
      "109/109 [==============================] - 0s 1ms/step - loss: 0.6935 - accuracy: 0.4826 - val_loss: 0.6936 - val_accuracy: 0.4818\n",
      "Epoch 7/30\n",
      "109/109 [==============================] - 0s 1ms/step - loss: 0.6934 - accuracy: 0.5046 - val_loss: 0.6936 - val_accuracy: 0.4818\n",
      "Epoch 8/30\n",
      "109/109 [==============================] - 0s 1ms/step - loss: 0.6933 - accuracy: 0.5046 - val_loss: 0.6936 - val_accuracy: 0.4818\n",
      "Epoch 9/30\n",
      "109/109 [==============================] - 0s 1ms/step - loss: 0.6934 - accuracy: 0.5046 - val_loss: 0.6936 - val_accuracy: 0.4818\n",
      "Epoch 10/30\n",
      "109/109 [==============================] - 0s 1ms/step - loss: 0.6934 - accuracy: 0.5046 - val_loss: 0.6937 - val_accuracy: 0.4818\n",
      "Epoch 11/30\n",
      "109/109 [==============================] - 0s 1ms/step - loss: 0.6932 - accuracy: 0.5046 - val_loss: 0.6935 - val_accuracy: 0.4818\n",
      "Epoch 12/30\n",
      "109/109 [==============================] - 0s 1ms/step - loss: 0.6933 - accuracy: 0.5046 - val_loss: 0.6933 - val_accuracy: 0.4818\n",
      "Epoch 13/30\n",
      "109/109 [==============================] - 0s 1ms/step - loss: 0.6932 - accuracy: 0.5046 - val_loss: 0.6934 - val_accuracy: 0.4818\n",
      "Epoch 14/30\n",
      "109/109 [==============================] - 0s 1ms/step - loss: 0.6933 - accuracy: 0.4734 - val_loss: 0.6936 - val_accuracy: 0.4818\n",
      "Epoch 15/30\n",
      "109/109 [==============================] - 0s 1ms/step - loss: 0.6933 - accuracy: 0.5046 - val_loss: 0.6934 - val_accuracy: 0.4818\n",
      "Epoch 16/30\n",
      "109/109 [==============================] - 0s 1ms/step - loss: 0.6933 - accuracy: 0.5046 - val_loss: 0.6936 - val_accuracy: 0.4818\n",
      "Epoch 17/30\n",
      "109/109 [==============================] - 0s 1ms/step - loss: 0.6933 - accuracy: 0.5046 - val_loss: 0.6935 - val_accuracy: 0.4818\n",
      "Epoch 18/30\n",
      "109/109 [==============================] - 0s 1ms/step - loss: 0.6933 - accuracy: 0.5046 - val_loss: 0.6933 - val_accuracy: 0.4818\n",
      "Epoch 19/30\n",
      "109/109 [==============================] - 0s 1ms/step - loss: 0.6932 - accuracy: 0.5046 - val_loss: 0.6934 - val_accuracy: 0.4818\n",
      "Epoch 20/30\n",
      "109/109 [==============================] - 0s 2ms/step - loss: 0.6926 - accuracy: 0.5083 - val_loss: 0.6908 - val_accuracy: 0.4818\n",
      "Epoch 21/30\n",
      "109/109 [==============================] - 0s 1ms/step - loss: 0.6847 - accuracy: 0.6514 - val_loss: 0.6747 - val_accuracy: 0.9562\n",
      "Epoch 22/30\n",
      "109/109 [==============================] - 0s 1ms/step - loss: 0.6586 - accuracy: 0.9413 - val_loss: 0.6359 - val_accuracy: 0.9489\n",
      "Epoch 23/30\n",
      "109/109 [==============================] - 0s 1ms/step - loss: 0.6103 - accuracy: 0.9394 - val_loss: 0.5740 - val_accuracy: 0.9635\n",
      "Epoch 24/30\n",
      "109/109 [==============================] - 0s 1ms/step - loss: 0.5504 - accuracy: 0.9394 - val_loss: 0.5103 - val_accuracy: 0.9635\n",
      "Epoch 25/30\n",
      "109/109 [==============================] - 0s 1ms/step - loss: 0.4944 - accuracy: 0.9376 - val_loss: 0.4604 - val_accuracy: 0.9489\n",
      "Epoch 26/30\n",
      "109/109 [==============================] - 0s 1ms/step - loss: 0.4458 - accuracy: 0.9394 - val_loss: 0.4110 - val_accuracy: 0.9562\n",
      "Epoch 27/30\n",
      "109/109 [==============================] - 0s 1ms/step - loss: 0.4029 - accuracy: 0.9431 - val_loss: 0.3787 - val_accuracy: 0.9489\n",
      "Epoch 28/30\n",
      "109/109 [==============================] - 0s 1ms/step - loss: 0.3743 - accuracy: 0.9376 - val_loss: 0.3444 - val_accuracy: 0.9489\n",
      "Epoch 29/30\n",
      "109/109 [==============================] - 0s 1ms/step - loss: 0.3431 - accuracy: 0.9413 - val_loss: 0.3156 - val_accuracy: 0.9562\n",
      "Epoch 30/30\n",
      "109/109 [==============================] - 0s 1ms/step - loss: 0.3207 - accuracy: 0.9413 - val_loss: 0.2969 - val_accuracy: 0.9489\n"
     ]
    }
   ],
   "source": [
    "us_batch_size = 5\n",
    "us_epochs = 30\n",
    "us_history = us_DNN.fit(sc_xtr_us, ytr_us, batch_size=us_batch_size, epochs=us_epochs, validation_data=(sc_xte_us_v, ytr_us_v))"
   ]
  },
  {
   "cell_type": "code",
   "execution_count": 19,
   "id": "cb217d7f",
   "metadata": {},
   "outputs": [
    {
     "name": "stdout",
     "output_type": "stream",
     "text": [
      "confusion matrix for oversampling\n",
      "[[85241    51]\n",
      " [   37   114]]\n"
     ]
    }
   ],
   "source": [
    "# over sampled prediction and confusion matrix\n",
    "print(\"confusion matrix for oversampling\")\n",
    "os_DNN_pred = os_DNN.predict(sc_xte_os)\n",
    "os_DNN_pred = (os_DNN_pred > 0.5)\n",
    "print(CM(y_te, os_DNN_pred))"
   ]
  },
  {
   "cell_type": "code",
   "execution_count": 20,
   "id": "4853641c",
   "metadata": {},
   "outputs": [
    {
     "name": "stdout",
     "output_type": "stream",
     "text": [
      "confusion matrix for undersampling\n",
      "[[82231  3061]\n",
      " [   16   135]]\n"
     ]
    }
   ],
   "source": [
    "print(\"confusion matrix for undersampling\")\n",
    "us_DNN_pred = us_DNN.predict(sc_xte_os)\n",
    "us_DNN_pred = (us_DNN_pred > 0.5)\n",
    "print(CM(y_te, us_DNN_pred))"
   ]
  },
  {
   "cell_type": "code",
   "execution_count": 21,
   "id": "83c47bda",
   "metadata": {
    "scrolled": true
   },
   "outputs": [
    {
     "name": "stdout",
     "output_type": "stream",
     "text": [
      "Scoring for oversampling:\n",
      "Accuracy: 0.9989700736163291\n",
      "Precision: 0.6909090909090909\n",
      "Recall: 0.7549668874172185\n",
      "F1 Score: 0.7215189873417722\n"
     ]
    }
   ],
   "source": [
    "print(\"Scoring for oversampling:\")\n",
    "print('Accuracy: {}'.format(AS(y_te, os_DNN_pred)))\n",
    "print('Precision: {}'.format(PS(y_te, os_DNN_pred)))\n",
    "print('Recall: {}'.format(RS(y_te, os_DNN_pred)))\n",
    "print('F1 Score: {}'.format(FS(y_te, os_DNN_pred)))"
   ]
  },
  {
   "cell_type": "code",
   "execution_count": 22,
   "id": "e1d61709",
   "metadata": {},
   "outputs": [
    {
     "name": "stdout",
     "output_type": "stream",
     "text": [
      "Scoring for undersampling:\n",
      "Accuracy: 0.9639876876982316\n",
      "Precision: 0.04224030037546934\n",
      "Recall: 0.8940397350993378\n",
      "F1 Score: 0.0806692560501942\n"
     ]
    }
   ],
   "source": [
    "print(\"Scoring for undersampling:\")\n",
    "print('Accuracy: {}'.format(AS(y_te, us_DNN_pred)))\n",
    "print('Precision: {}'.format(PS(y_te, us_DNN_pred)))\n",
    "print('Recall: {}'.format(RS(y_te, us_DNN_pred)))\n",
    "print('F1 Score: {}'.format(FS(y_te, us_DNN_pred)))"
   ]
  },
  {
   "cell_type": "code",
   "execution_count": 23,
   "id": "d5f29958",
   "metadata": {},
   "outputs": [
    {
     "data": {
      "text/plain": [
       "<matplotlib.legend.Legend at 0x22aa104fb20>"
      ]
     },
     "execution_count": 23,
     "metadata": {},
     "output_type": "execute_result"
    },
    {
     "data": {
      "image/png": "[encoded data removed]",
      "text/plain": [
       "<Figure size 432x288 with 1 Axes>"
      ]
     },
     "metadata": {
      "needs_background": "light"
     },
     "output_type": "display_data"
    }
   ],
   "source": [
    "# lets plot the roc curves and document the area under the curve\n",
    "os_DNN_fpr, os_DNN_tpr, _ = RC(y_te, os_DNN_pred.ravel())\n",
    "os_DNN_auc = RAS(y_te, os_DNN_pred)\n",
    "plt.plot(os_DNN_fpr, os_DNN_tpr, linestyle='--', label = \"Oversampled(AUC =%.2f)\" % os_DNN_auc)\n",
    "us_DNN_fpr, us_DNN_tpr, _ = RC(y_te, us_DNN_pred.ravel())\n",
    "us_DNN_auc = RAS(y_te, us_DNN_pred)\n",
    "plt.plot(us_DNN_fpr, us_DNN_tpr, linestyle='--', label = \"Undersampled(AUC =%.2f)\" % us_DNN_auc)\n",
    "plt.legend()"
   ]
  }
 ],
 "metadata": {
  "kernelspec": {
   "display_name": "Python 3 (ipykernel)",
   "language": "python",
   "name": "python3"
  },
  "language_info": {
   "codemirror_mode": {
    "name": "ipython",
    "version": 3
   },
   "file_extension": ".py",
   "mimetype": "text/x-python",
   "name": "python",
   "nbconvert_exporter": "python",
   "pygments_lexer": "ipython3",
   "version": "3.9.6"
  }
 },
 "nbformat": 4,
 "nbformat_minor": 5
}
